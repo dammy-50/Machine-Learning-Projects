{
  "nbformat": 4,
  "nbformat_minor": 0,
  "metadata": {
    "colab": {
      "provenance": [],
      "mount_file_id": "1AT4kXr4Y6soOdFRb2PllXsVgw01kIVp7",
      "authorship_tag": "ABX9TyMzjfJXt3o4/t1BaaSTV2La",
      "include_colab_link": true
    },
    "kernelspec": {
      "name": "python3",
      "display_name": "Python 3"
    },
    "language_info": {
      "name": "python"
    }
  },
  "cells": [
    {
      "cell_type": "markdown",
      "metadata": {
        "id": "view-in-github",
        "colab_type": "text"
      },
      "source": [
        "<a href=\"https://colab.research.google.com/github/dammy-50/Machine-Learning-Projects/blob/main/pysparkintro.ipynb\" target=\"_parent\"><img src=\"https://colab.research.google.com/assets/colab-badge.svg\" alt=\"Open In Colab\"/></a>"
      ]
    },
    {
      "cell_type": "code",
      "execution_count": 30,
      "metadata": {
        "id": "tIPm_lOtPnEJ",
        "colab": {
          "base_uri": "https://localhost:8080/"
        },
        "outputId": "214e9e81-7a54-463d-ae5d-6d24408058c8"
      },
      "outputs": [
        {
          "output_type": "stream",
          "name": "stdout",
          "text": [
            "Looking in indexes: https://pypi.org/simple, https://us-python.pkg.dev/colab-wheels/public/simple/\n",
            "Requirement already satisfied: pyspark in /usr/local/lib/python3.9/dist-packages (3.3.2)\n",
            "Requirement already satisfied: py4j==0.10.9.5 in /usr/local/lib/python3.9/dist-packages (from pyspark) (0.10.9.5)\n"
          ]
        }
      ],
      "source": [
        "!pip install pyspark"
      ]
    },
    {
      "cell_type": "code",
      "source": [
        "from pyspark.sql import SparkSession"
      ],
      "metadata": {
        "id": "wWiejjPoQtDE"
      },
      "execution_count": 31,
      "outputs": []
    },
    {
      "cell_type": "code",
      "source": [
        "spark =SparkSession.builder.appName('Pyspark').getOrCreate()"
      ],
      "metadata": {
        "id": "b6GDi1oiGsT6"
      },
      "execution_count": 32,
      "outputs": []
    },
    {
      "cell_type": "code",
      "source": [
        "spark"
      ],
      "metadata": {
        "colab": {
          "base_uri": "https://localhost:8080/",
          "height": 219
        },
        "id": "bXyPrxiIHeXY",
        "outputId": "9af270a2-081a-42c8-fc2c-dedacd0639df"
      },
      "execution_count": 33,
      "outputs": [
        {
          "output_type": "execute_result",
          "data": {
            "text/plain": [
              "<pyspark.sql.session.SparkSession at 0x7ff4840afc10>"
            ],
            "text/html": [
              "\n",
              "            <div>\n",
              "                <p><b>SparkSession - in-memory</b></p>\n",
              "                \n",
              "        <div>\n",
              "            <p><b>SparkContext</b></p>\n",
              "\n",
              "            <p><a href=\"http://d088e0a7a091:4040\">Spark UI</a></p>\n",
              "\n",
              "            <dl>\n",
              "              <dt>Version</dt>\n",
              "                <dd><code>v3.3.2</code></dd>\n",
              "              <dt>Master</dt>\n",
              "                <dd><code>local[*]</code></dd>\n",
              "              <dt>AppName</dt>\n",
              "                <dd><code>Pyspark</code></dd>\n",
              "            </dl>\n",
              "        </div>\n",
              "        \n",
              "            </div>\n",
              "        "
            ]
          },
          "metadata": {},
          "execution_count": 33
        }
      ]
    },
    {
      "cell_type": "code",
      "source": [
        "df= spark.read.csv('/content/drive/MyDrive/datascience/Datasets-Youtube-Pandas-main/DS/data_m1.csv',header=True,inferSchema=True)"
      ],
      "metadata": {
        "id": "-PgKgEu0HimL"
      },
      "execution_count": 34,
      "outputs": []
    },
    {
      "cell_type": "markdown",
      "source": [
        "### **Display Top 3 Rows of The Dataset**"
      ],
      "metadata": {
        "id": "1FmvOWVGStDq"
      }
    },
    {
      "cell_type": "code",
      "source": [
        "df.show(3)"
      ],
      "metadata": {
        "colab": {
          "base_uri": "https://localhost:8080/"
        },
        "id": "OmV5cI6nS7Vc",
        "outputId": "879d0327-d561-4b1b-966d-095d9219d6b5"
      },
      "execution_count": 35,
      "outputs": [
        {
          "output_type": "stream",
          "name": "stdout",
          "text": [
            "+-------+-----+-------------+\n",
            "|   Name|Marks|       Grades|\n",
            "+-------+-----+-------------+\n",
            "|Priyang|   98|not available|\n",
            "| Aadhya|   NA|           AB|\n",
            "| Krisha|   99|           AA|\n",
            "+-------+-----+-------------+\n",
            "only showing top 3 rows\n",
            "\n"
          ]
        }
      ]
    },
    {
      "cell_type": "markdown",
      "source": [
        "## **Display DataTypes Of each Column**"
      ],
      "metadata": {
        "id": "3OHjErpEUX6s"
      }
    },
    {
      "cell_type": "code",
      "source": [
        "df.printSchema()"
      ],
      "metadata": {
        "colab": {
          "base_uri": "https://localhost:8080/"
        },
        "id": "GjKuz_BBUf0J",
        "outputId": "84642175-eb5c-47d2-92c6-778bf92d6d20"
      },
      "execution_count": 36,
      "outputs": [
        {
          "output_type": "stream",
          "name": "stdout",
          "text": [
            "root\n",
            " |-- Name: string (nullable = true)\n",
            " |-- Marks: string (nullable = true)\n",
            " |-- Grades: string (nullable = true)\n",
            "\n"
          ]
        }
      ]
    },
    {
      "cell_type": "markdown",
      "source": [
        "## **Display Column Names**"
      ],
      "metadata": {
        "id": "aG_aX1BwVzHT"
      }
    },
    {
      "cell_type": "code",
      "source": [
        "df.columns"
      ],
      "metadata": {
        "colab": {
          "base_uri": "https://localhost:8080/"
        },
        "id": "V01IOEb4V5g9",
        "outputId": "e7253fd5-8989-41e8-917a-5e702ad97581"
      },
      "execution_count": 37,
      "outputs": [
        {
          "output_type": "execute_result",
          "data": {
            "text/plain": [
              "['Name', 'Marks', 'Grades']"
            ]
          },
          "metadata": {},
          "execution_count": 37
        }
      ]
    },
    {
      "cell_type": "markdown",
      "source": [
        "## **Count Number of Rows and Columns**"
      ],
      "metadata": {
        "id": "KDI9RCxWWEBv"
      }
    },
    {
      "cell_type": "code",
      "source": [
        "df.count()"
      ],
      "metadata": {
        "colab": {
          "base_uri": "https://localhost:8080/"
        },
        "id": "MltrVy67WK7y",
        "outputId": "17103c17-af63-4029-e9ad-4f292f278efb"
      },
      "execution_count": 38,
      "outputs": [
        {
          "output_type": "execute_result",
          "data": {
            "text/plain": [
              "7"
            ]
          },
          "metadata": {},
          "execution_count": 38
        }
      ]
    },
    {
      "cell_type": "code",
      "source": [
        "len(df.columns)"
      ],
      "metadata": {
        "colab": {
          "base_uri": "https://localhost:8080/"
        },
        "id": "WucPA3PeWOay",
        "outputId": "b7b8bee0-a16a-4549-c46f-e07366728e04"
      },
      "execution_count": 39,
      "outputs": [
        {
          "output_type": "execute_result",
          "data": {
            "text/plain": [
              "3"
            ]
          },
          "metadata": {},
          "execution_count": 39
        }
      ]
    },
    {
      "cell_type": "markdown",
      "source": [
        "## **Get Overall Statistics About The Dataset**"
      ],
      "metadata": {
        "id": "oiRNiYjIWbLW"
      }
    },
    {
      "cell_type": "code",
      "source": [
        "df.describe().show()"
      ],
      "metadata": {
        "colab": {
          "base_uri": "https://localhost:8080/"
        },
        "id": "_YxwfPnHWWc8",
        "outputId": "d1995458-9035-47df-9b7f-ac2a090e1345"
      },
      "execution_count": 40,
      "outputs": [
        {
          "output_type": "stream",
          "name": "stdout",
          "text": [
            "+-------+------+-----------------+-------------+\n",
            "|summary|  Name|            Marks|       Grades|\n",
            "+-------+------+-----------------+-------------+\n",
            "|  count|     7|                7|            7|\n",
            "|   mean|  null|             91.2|         null|\n",
            "| stddev|  null|7.259476565152615|         null|\n",
            "|    min|Aadhya|               82|           AA|\n",
            "|    max|Vedant|               NA|not available|\n",
            "+-------+------+-----------------+-------------+\n",
            "\n"
          ]
        }
      ]
    },
    {
      "cell_type": "markdown",
      "source": [
        "## **Find Unique Values Available In The Grade Column**"
      ],
      "metadata": {
        "id": "fUeZBthFW2dP"
      }
    },
    {
      "cell_type": "code",
      "source": [
        "df.columns"
      ],
      "metadata": {
        "colab": {
          "base_uri": "https://localhost:8080/"
        },
        "id": "ZRoT_Xj8XCL8",
        "outputId": "22158d69-b7ea-491d-c364-04f4fb21fb9d"
      },
      "execution_count": 41,
      "outputs": [
        {
          "output_type": "execute_result",
          "data": {
            "text/plain": [
              "['Name', 'Marks', 'Grades']"
            ]
          },
          "metadata": {},
          "execution_count": 41
        }
      ]
    },
    {
      "cell_type": "code",
      "source": [
        "df.toPandas()['Grades'].unique()"
      ],
      "metadata": {
        "colab": {
          "base_uri": "https://localhost:8080/"
        },
        "id": "Rq9_4ybnXIAa",
        "outputId": "c4dc005c-8443-4d4e-8b5f-d140b5c273af"
      },
      "execution_count": 42,
      "outputs": [
        {
          "output_type": "execute_result",
          "data": {
            "text/plain": [
              "array(['not available', 'AB', 'AA', 'NA', 'AC', 'BA', 'BB'], dtype=object)"
            ]
          },
          "metadata": {},
          "execution_count": 42
        }
      ]
    },
    {
      "cell_type": "markdown",
      "source": [
        "## **Find Total Numbers Unique Values Available In The Grade Column**"
      ],
      "metadata": {
        "id": "4NL14j_EXjc4"
      }
    },
    {
      "cell_type": "code",
      "source": [
        "len(df.toPandas()['Grades'].unique())"
      ],
      "metadata": {
        "colab": {
          "base_uri": "https://localhost:8080/"
        },
        "id": "mqefI54IX1rd",
        "outputId": "553fd0c4-9ef4-4673-89e4-be966484d0ac"
      },
      "execution_count": 43,
      "outputs": [
        {
          "output_type": "execute_result",
          "data": {
            "text/plain": [
              "7"
            ]
          },
          "metadata": {},
          "execution_count": 43
        }
      ]
    },
    {
      "cell_type": "markdown",
      "source": [
        "## **How to Select Single Column?**"
      ],
      "metadata": {
        "id": "zQyBWSrYYRj7"
      }
    },
    {
      "cell_type": "code",
      "source": [
        "df.show()"
      ],
      "metadata": {
        "colab": {
          "base_uri": "https://localhost:8080/"
        },
        "id": "cgpJpJVkYLee",
        "outputId": "c5780103-88fa-4162-f7ae-4a6b6fb9330e"
      },
      "execution_count": 44,
      "outputs": [
        {
          "output_type": "stream",
          "name": "stdout",
          "text": [
            "+-------+-----+-------------+\n",
            "|   Name|Marks|       Grades|\n",
            "+-------+-----+-------------+\n",
            "|Priyang|   98|not available|\n",
            "| Aadhya|   NA|           AB|\n",
            "| Krisha|   99|           AA|\n",
            "| Vedant|   87|           NA|\n",
            "| Parshv|   90|           AC|\n",
            "| Mittal|   NA|           BA|\n",
            "|Archana|   82|           BB|\n",
            "+-------+-----+-------------+\n",
            "\n"
          ]
        }
      ]
    },
    {
      "cell_type": "code",
      "source": [
        "df.select('Name').show()"
      ],
      "metadata": {
        "colab": {
          "base_uri": "https://localhost:8080/"
        },
        "id": "-c4HgBWmYwzb",
        "outputId": "73c6fd0d-83dd-4054-df0f-abcb1529d678"
      },
      "execution_count": 45,
      "outputs": [
        {
          "output_type": "stream",
          "name": "stdout",
          "text": [
            "+-------+\n",
            "|   Name|\n",
            "+-------+\n",
            "|Priyang|\n",
            "| Aadhya|\n",
            "| Krisha|\n",
            "| Vedant|\n",
            "| Parshv|\n",
            "| Mittal|\n",
            "|Archana|\n",
            "+-------+\n",
            "\n"
          ]
        }
      ]
    },
    {
      "cell_type": "markdown",
      "source": [
        "## **How to Select Multiple Columns**"
      ],
      "metadata": {
        "id": "45MrYlEXaKv8"
      }
    },
    {
      "cell_type": "code",
      "source": [
        "df.select(['Name','Grades']).show()"
      ],
      "metadata": {
        "id": "TK5dBcDTY53h",
        "colab": {
          "base_uri": "https://localhost:8080/"
        },
        "outputId": "c8b2eaff-4757-4c40-9bb7-6de32d633c2d"
      },
      "execution_count": 46,
      "outputs": [
        {
          "output_type": "stream",
          "name": "stdout",
          "text": [
            "+-------+-------------+\n",
            "|   Name|       Grades|\n",
            "+-------+-------------+\n",
            "|Priyang|not available|\n",
            "| Aadhya|           AB|\n",
            "| Krisha|           AA|\n",
            "| Vedant|           NA|\n",
            "| Parshv|           AC|\n",
            "| Mittal|           BA|\n",
            "|Archana|           BB|\n",
            "+-------+-------------+\n",
            "\n"
          ]
        }
      ]
    },
    {
      "cell_type": "markdown",
      "source": [
        "## **Create New Column With Marks +1 and also update existing DataFrame**"
      ],
      "metadata": {
        "id": "GoAiUxtX5nfv"
      }
    },
    {
      "cell_type": "code",
      "source": [
        "df.withColumn('New_Marks',df.Marks+1).show()"
      ],
      "metadata": {
        "colab": {
          "base_uri": "https://localhost:8080/"
        },
        "id": "hfAz-Ual5Vg8",
        "outputId": "9500ac4f-9881-4dcf-e6d7-49387341e05f"
      },
      "execution_count": 47,
      "outputs": [
        {
          "output_type": "stream",
          "name": "stdout",
          "text": [
            "+-------+-----+-------------+---------+\n",
            "|   Name|Marks|       Grades|New_Marks|\n",
            "+-------+-----+-------------+---------+\n",
            "|Priyang|   98|not available|     99.0|\n",
            "| Aadhya|   NA|           AB|     null|\n",
            "| Krisha|   99|           AA|    100.0|\n",
            "| Vedant|   87|           NA|     88.0|\n",
            "| Parshv|   90|           AC|     91.0|\n",
            "| Mittal|   NA|           BA|     null|\n",
            "|Archana|   82|           BB|     83.0|\n",
            "+-------+-----+-------------+---------+\n",
            "\n"
          ]
        }
      ]
    },
    {
      "cell_type": "code",
      "source": [
        "df= df.withColumn('New_Marks',df.Marks+1)"
      ],
      "metadata": {
        "id": "SrxLYZnz6QGK"
      },
      "execution_count": 48,
      "outputs": []
    },
    {
      "cell_type": "code",
      "source": [
        "df.show()"
      ],
      "metadata": {
        "colab": {
          "base_uri": "https://localhost:8080/"
        },
        "id": "LuqRPzen6wXo",
        "outputId": "9aa221b7-ff33-4ff4-e25f-db03cba5deaf"
      },
      "execution_count": 49,
      "outputs": [
        {
          "output_type": "stream",
          "name": "stdout",
          "text": [
            "+-------+-----+-------------+---------+\n",
            "|   Name|Marks|       Grades|New_Marks|\n",
            "+-------+-----+-------------+---------+\n",
            "|Priyang|   98|not available|     99.0|\n",
            "| Aadhya|   NA|           AB|     null|\n",
            "| Krisha|   99|           AA|    100.0|\n",
            "| Vedant|   87|           NA|     88.0|\n",
            "| Parshv|   90|           AC|     91.0|\n",
            "| Mittal|   NA|           BA|     null|\n",
            "|Archana|   82|           BB|     83.0|\n",
            "+-------+-----+-------------+---------+\n",
            "\n"
          ]
        }
      ]
    },
    {
      "cell_type": "markdown",
      "source": [
        "## **Rename Name Column and give New Name \"Student_Name\"**"
      ],
      "metadata": {
        "id": "DPQy3wBj68qQ"
      }
    },
    {
      "cell_type": "code",
      "source": [
        "df.columns"
      ],
      "metadata": {
        "colab": {
          "base_uri": "https://localhost:8080/"
        },
        "id": "3v-9fcdr6zIg",
        "outputId": "e6415fb8-b3dd-4e27-822d-c1203f36a4d4"
      },
      "execution_count": 50,
      "outputs": [
        {
          "output_type": "execute_result",
          "data": {
            "text/plain": [
              "['Name', 'Marks', 'Grades', 'New_Marks']"
            ]
          },
          "metadata": {},
          "execution_count": 50
        }
      ]
    },
    {
      "cell_type": "code",
      "source": [
        "df= df.withColumnRenamed('Name','Student_Name')"
      ],
      "metadata": {
        "id": "cVck1wY-7XMi"
      },
      "execution_count": 51,
      "outputs": []
    },
    {
      "cell_type": "code",
      "source": [
        "df.show()"
      ],
      "metadata": {
        "colab": {
          "base_uri": "https://localhost:8080/"
        },
        "id": "p92TxLJt7wEW",
        "outputId": "6bacd951-4a59-44a5-a1d9-d8602c9db951"
      },
      "execution_count": 52,
      "outputs": [
        {
          "output_type": "stream",
          "name": "stdout",
          "text": [
            "+------------+-----+-------------+---------+\n",
            "|Student_Name|Marks|       Grades|New_Marks|\n",
            "+------------+-----+-------------+---------+\n",
            "|     Priyang|   98|not available|     99.0|\n",
            "|      Aadhya|   NA|           AB|     null|\n",
            "|      Krisha|   99|           AA|    100.0|\n",
            "|      Vedant|   87|           NA|     88.0|\n",
            "|      Parshv|   90|           AC|     91.0|\n",
            "|      Mittal|   NA|           BA|     null|\n",
            "|     Archana|   82|           BB|     83.0|\n",
            "+------------+-----+-------------+---------+\n",
            "\n"
          ]
        }
      ]
    },
    {
      "cell_type": "markdown",
      "source": [
        "## **Display Name Of Students Having Marks Greater Than 90**"
      ],
      "metadata": {
        "id": "tjndv2ZR8qRD"
      }
    },
    {
      "cell_type": "code",
      "source": [
        "df.filter(df['Marks']>90).select('Student_Name').show()"
      ],
      "metadata": {
        "colab": {
          "base_uri": "https://localhost:8080/"
        },
        "id": "WuOao71v8cQM",
        "outputId": "5175a3ae-4e1a-4aa1-9db9-c0d9bb28da8c"
      },
      "execution_count": 55,
      "outputs": [
        {
          "output_type": "stream",
          "name": "stdout",
          "text": [
            "+------------+\n",
            "|Student_Name|\n",
            "+------------+\n",
            "|     Priyang|\n",
            "|      Krisha|\n",
            "+------------+\n",
            "\n"
          ]
        }
      ]
    },
    {
      "cell_type": "markdown",
      "source": [
        "## **Display Name and Grades of The Students Having Marks Greater Than 90**"
      ],
      "metadata": {
        "id": "HT-qaSXK9XKu"
      }
    },
    {
      "cell_type": "code",
      "source": [
        "df.filter(df['Marks']>90).select(['Student_Name','Grades']).show()"
      ],
      "metadata": {
        "colab": {
          "base_uri": "https://localhost:8080/"
        },
        "id": "00TEhl9j9CeH",
        "outputId": "ee4a0b60-1322-4834-cecd-a8e12eea0e1e"
      },
      "execution_count": 56,
      "outputs": [
        {
          "output_type": "stream",
          "name": "stdout",
          "text": [
            "+------------+-------------+\n",
            "|Student_Name|       Grades|\n",
            "+------------+-------------+\n",
            "|     Priyang|not available|\n",
            "|      Krisha|           AA|\n",
            "+------------+-------------+\n",
            "\n"
          ]
        }
      ]
    },
    {
      "cell_type": "markdown",
      "source": [
        "## **Sort Every Row Of The Dataset Into Descending Order**"
      ],
      "metadata": {
        "id": "qPYPAWpS-rBc"
      }
    },
    {
      "cell_type": "code",
      "source": [
        "df.orderBy(df['Marks'].desc()).show()"
      ],
      "metadata": {
        "colab": {
          "base_uri": "https://localhost:8080/"
        },
        "id": "19CwOWm09-ce",
        "outputId": "06745988-fddc-43ab-b98e-e182026faaa7"
      },
      "execution_count": 57,
      "outputs": [
        {
          "output_type": "stream",
          "name": "stdout",
          "text": [
            "+------------+-----+-------------+---------+\n",
            "|Student_Name|Marks|       Grades|New_Marks|\n",
            "+------------+-----+-------------+---------+\n",
            "|      Mittal|   NA|           BA|     null|\n",
            "|      Aadhya|   NA|           AB|     null|\n",
            "|      Krisha|   99|           AA|    100.0|\n",
            "|     Priyang|   98|not available|     99.0|\n",
            "|      Parshv|   90|           AC|     91.0|\n",
            "|      Vedant|   87|           NA|     88.0|\n",
            "|     Archana|   82|           BB|     83.0|\n",
            "+------------+-----+-------------+---------+\n",
            "\n"
          ]
        }
      ]
    },
    {
      "cell_type": "markdown",
      "source": [
        "## **Handling Missing Values**"
      ],
      "metadata": {
        "id": "Z5PG7vEr_NN1"
      }
    },
    {
      "cell_type": "code",
      "source": [
        "from pyspark.sql.functions import mean"
      ],
      "metadata": {
        "id": "hkyVhZVL_Hns"
      },
      "execution_count": 58,
      "outputs": []
    },
    {
      "cell_type": "code",
      "source": [
        "mean1 = df.select(mean(df['Marks'])).collect()"
      ],
      "metadata": {
        "id": "cZEDRJMP_hIw"
      },
      "execution_count": 59,
      "outputs": []
    },
    {
      "cell_type": "code",
      "source": [
        "mean1[0][0]"
      ],
      "metadata": {
        "colab": {
          "base_uri": "https://localhost:8080/"
        },
        "id": "My1AldaN_6BO",
        "outputId": "2c23b0f7-94a9-487a-bd6f-fc27cdede02f"
      },
      "execution_count": 60,
      "outputs": [
        {
          "output_type": "execute_result",
          "data": {
            "text/plain": [
              "91.2"
            ]
          },
          "metadata": {},
          "execution_count": 60
        }
      ]
    },
    {
      "cell_type": "code",
      "source": [
        "df.fillna(mean1[0][0]).show()"
      ],
      "metadata": {
        "colab": {
          "base_uri": "https://localhost:8080/"
        },
        "id": "11ulxOrRAGwm",
        "outputId": "2a642dda-a3e7-4c6f-f819-c78f5e110c00"
      },
      "execution_count": 61,
      "outputs": [
        {
          "output_type": "stream",
          "name": "stdout",
          "text": [
            "+------------+-----+-------------+---------+\n",
            "|Student_Name|Marks|       Grades|New_Marks|\n",
            "+------------+-----+-------------+---------+\n",
            "|     Priyang|   98|not available|     99.0|\n",
            "|      Aadhya|   NA|           AB|     91.2|\n",
            "|      Krisha|   99|           AA|    100.0|\n",
            "|      Vedant|   87|           NA|     88.0|\n",
            "|      Parshv|   90|           AC|     91.0|\n",
            "|      Mittal|   NA|           BA|     91.2|\n",
            "|     Archana|   82|           BB|     83.0|\n",
            "+------------+-----+-------------+---------+\n",
            "\n"
          ]
        }
      ]
    },
    {
      "cell_type": "code",
      "source": [],
      "metadata": {
        "id": "06v4YmotAY0b"
      },
      "execution_count": null,
      "outputs": []
    }
  ]
}