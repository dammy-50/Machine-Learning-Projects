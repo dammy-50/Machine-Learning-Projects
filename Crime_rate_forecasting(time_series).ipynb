{
  "cells": [
    {
      "cell_type": "markdown",
      "metadata": {
        "id": "view-in-github",
        "colab_type": "text"
      },
      "source": [
        "<a href=\"https://colab.research.google.com/github/dammy-50/Machine-Learning-Projects/blob/main/Crime_rate_forecasting(time_series).ipynb\" target=\"_parent\"><img src=\"https://colab.research.google.com/assets/colab-badge.svg\" alt=\"Open In Colab\"/></a>"
      ]
    },
    {
      "cell_type": "code",
      "execution_count": 1,
      "metadata": {
        "colab": {
          "base_uri": "https://localhost:8080/"
        },
        "id": "IISraZVzNTP0",
        "outputId": "1ffe6a68-1506-41fd-8e3c-93b132db697a"
      },
      "outputs": [
        {
          "output_type": "stream",
          "name": "stdout",
          "text": [
            "Hello\n"
          ]
        }
      ],
      "source": [
        "print ('Hello')"
      ]
    },
    {
      "cell_type": "code",
      "execution_count": 2,
      "metadata": {
        "colab": {
          "base_uri": "https://localhost:8080/"
        },
        "id": "hRUQGiOSd3AI",
        "outputId": "30fdf3fc-a0a9-4275-f003-9ebc29cfba85"
      },
      "outputs": [
        {
          "output_type": "stream",
          "name": "stdout",
          "text": [
            "Hello world\n"
          ]
        }
      ],
      "source": [
        "print('Hello world')"
      ]
    },
    {
      "cell_type": "code",
      "execution_count": 2,
      "metadata": {
        "id": "VTcR01kWeAT2"
      },
      "outputs": [],
      "source": []
    },
    {
      "cell_type": "code",
      "execution_count": 3,
      "metadata": {
        "colab": {
          "base_uri": "https://localhost:8080/"
        },
        "id": "Ee8nphu2a2wD",
        "outputId": "8a8b15b1-4a65-4f03-b590-97ea09c33118"
      },
      "outputs": [
        {
          "output_type": "stream",
          "name": "stdout",
          "text": [
            "Looking in indexes: https://pypi.org/simple, https://us-python.pkg.dev/colab-wheels/public/simple/\n",
            "Collecting pystan~=2.14\n",
            "  Downloading pystan-2.19.1.1-cp38-cp38-manylinux1_x86_64.whl (62.6 MB)\n",
            "\u001b[2K     \u001b[90m━━━━━━━━━━━━━━━━━━━━━━━━━━━━━━━━━━━━━━━━\u001b[0m \u001b[32m62.6/62.6 MB\u001b[0m \u001b[31m10.7 MB/s\u001b[0m eta \u001b[36m0:00:00\u001b[0m\n",
            "\u001b[?25hRequirement already satisfied: numpy>=1.7 in /usr/local/lib/python3.8/dist-packages (from pystan~=2.14) (1.21.6)\n",
            "Requirement already satisfied: Cython!=0.25.1,>=0.22 in /usr/local/lib/python3.8/dist-packages (from pystan~=2.14) (0.29.33)\n",
            "Installing collected packages: pystan\n",
            "  Attempting uninstall: pystan\n",
            "    Found existing installation: pystan 3.3.0\n",
            "    Uninstalling pystan-3.3.0:\n",
            "      Successfully uninstalled pystan-3.3.0\n",
            "Successfully installed pystan-2.19.1.1\n",
            "Looking in indexes: https://pypi.org/simple, https://us-python.pkg.dev/colab-wheels/public/simple/\n",
            "Collecting fbprophet\n",
            "  Downloading fbprophet-0.7.1.tar.gz (64 kB)\n",
            "\u001b[2K     \u001b[90m━━━━━━━━━━━━━━━━━━━━━━━━━━━━━━━━━━━━━━━━\u001b[0m \u001b[32m64.0/64.0 KB\u001b[0m \u001b[31m2.5 MB/s\u001b[0m eta \u001b[36m0:00:00\u001b[0m\n",
            "\u001b[?25h  Preparing metadata (setup.py) ... \u001b[?25l\u001b[?25hdone\n",
            "Requirement already satisfied: Cython>=0.22 in /usr/local/lib/python3.8/dist-packages (from fbprophet) (0.29.33)\n",
            "Collecting cmdstanpy==0.9.5\n",
            "  Downloading cmdstanpy-0.9.5-py3-none-any.whl (37 kB)\n",
            "Requirement already satisfied: pystan>=2.14 in /usr/local/lib/python3.8/dist-packages (from fbprophet) (2.19.1.1)\n",
            "Requirement already satisfied: numpy>=1.15.4 in /usr/local/lib/python3.8/dist-packages (from fbprophet) (1.21.6)\n",
            "Requirement already satisfied: pandas>=1.0.4 in /usr/local/lib/python3.8/dist-packages (from fbprophet) (1.3.5)\n",
            "Requirement already satisfied: matplotlib>=2.0.0 in /usr/local/lib/python3.8/dist-packages (from fbprophet) (3.2.2)\n",
            "Requirement already satisfied: LunarCalendar>=0.0.9 in /usr/local/lib/python3.8/dist-packages (from fbprophet) (0.0.9)\n",
            "Requirement already satisfied: convertdate>=2.1.2 in /usr/local/lib/python3.8/dist-packages (from fbprophet) (2.4.0)\n",
            "Requirement already satisfied: holidays>=0.10.2 in /usr/local/lib/python3.8/dist-packages (from fbprophet) (0.19)\n",
            "Collecting setuptools-git>=1.2\n",
            "  Downloading setuptools_git-1.2-py2.py3-none-any.whl (10 kB)\n",
            "Requirement already satisfied: python-dateutil>=2.8.0 in /usr/local/lib/python3.8/dist-packages (from fbprophet) (2.8.2)\n",
            "Requirement already satisfied: tqdm>=4.36.1 in /usr/local/lib/python3.8/dist-packages (from fbprophet) (4.64.1)\n",
            "Requirement already satisfied: pymeeus<=1,>=0.3.13 in /usr/local/lib/python3.8/dist-packages (from convertdate>=2.1.2->fbprophet) (0.5.12)\n",
            "Requirement already satisfied: hijri-converter in /usr/local/lib/python3.8/dist-packages (from holidays>=0.10.2->fbprophet) (2.2.4)\n",
            "Requirement already satisfied: korean-lunar-calendar in /usr/local/lib/python3.8/dist-packages (from holidays>=0.10.2->fbprophet) (0.3.1)\n",
            "Requirement already satisfied: ephem>=3.7.5.3 in /usr/local/lib/python3.8/dist-packages (from LunarCalendar>=0.0.9->fbprophet) (4.1.4)\n",
            "Requirement already satisfied: pytz in /usr/local/lib/python3.8/dist-packages (from LunarCalendar>=0.0.9->fbprophet) (2022.7.1)\n",
            "Requirement already satisfied: cycler>=0.10 in /usr/local/lib/python3.8/dist-packages (from matplotlib>=2.0.0->fbprophet) (0.11.0)\n",
            "Requirement already satisfied: kiwisolver>=1.0.1 in /usr/local/lib/python3.8/dist-packages (from matplotlib>=2.0.0->fbprophet) (1.4.4)\n",
            "Requirement already satisfied: pyparsing!=2.0.4,!=2.1.2,!=2.1.6,>=2.0.1 in /usr/local/lib/python3.8/dist-packages (from matplotlib>=2.0.0->fbprophet) (3.0.9)\n",
            "Requirement already satisfied: six>=1.5 in /usr/local/lib/python3.8/dist-packages (from python-dateutil>=2.8.0->fbprophet) (1.15.0)\n",
            "Building wheels for collected packages: fbprophet\n",
            "  Building wheel for fbprophet (setup.py) ... \u001b[?25l\u001b[?25hdone\n",
            "  Created wheel for fbprophet: filename=fbprophet-0.7.1-py3-none-any.whl size=9536685 sha256=d7b527ba4ce66367a59af993ef4e4df84b11f69060f5fe07058f7e192a0aba7f\n",
            "  Stored in directory: /root/.cache/pip/wheels/d0/d2/ae/c579b7fd160999d35908f3cb8ebcad7ef64ecaca7b78e4c3c8\n",
            "Successfully built fbprophet\n",
            "Installing collected packages: setuptools-git, cmdstanpy, fbprophet\n",
            "  Attempting uninstall: cmdstanpy\n",
            "    Found existing installation: cmdstanpy 1.1.0\n",
            "    Uninstalling cmdstanpy-1.1.0:\n",
            "      Successfully uninstalled cmdstanpy-1.1.0\n",
            "\u001b[31mERROR: pip's dependency resolver does not currently take into account all the packages that are installed. This behaviour is the source of the following dependency conflicts.\n",
            "prophet 1.1.2 requires cmdstanpy>=1.0.4, but you have cmdstanpy 0.9.5 which is incompatible.\u001b[0m\u001b[31m\n",
            "\u001b[0mSuccessfully installed cmdstanpy-0.9.5 fbprophet-0.7.1 setuptools-git-1.2\n"
          ]
        }
      ],
      "source": [
        "!pip install pystan~=2.14\n",
        "!pip install fbprophet"
      ]
    },
    {
      "cell_type": "code",
      "execution_count": 4,
      "metadata": {
        "id": "QhCI6Z_Qe2YI",
        "colab": {
          "base_uri": "https://localhost:8080/"
        },
        "outputId": "50a5022c-f683-465a-8846-8d4f742fb8f0"
      },
      "outputs": [
        {
          "output_type": "stream",
          "name": "stdout",
          "text": [
            "Drive already mounted at /content/drive; to attempt to forcibly remount, call drive.mount(\"/content/drive\", force_remount=True).\n"
          ]
        }
      ],
      "source": [
        "from google.colab import drive\n",
        "drive.mount('/content/drive')"
      ]
    },
    {
      "cell_type": "code",
      "execution_count": 5,
      "metadata": {
        "id": "IDX2QO4We4Ai"
      },
      "outputs": [],
      "source": [
        "import pandas as pd\n",
        "import matplotlib.pyplot as plt\n",
        "import seaborn as sns\n",
        "from fbprophet import Prophet"
      ]
    },
    {
      "cell_type": "code",
      "execution_count": 6,
      "metadata": {
        "id": "Hz2DIYAifeAF",
        "colab": {
          "base_uri": "https://localhost:8080/"
        },
        "outputId": "04d43ab0-ecd3-4cca-ee17-fe3fec191a19"
      },
      "outputs": [
        {
          "output_type": "stream",
          "name": "stderr",
          "text": [
            "/usr/local/lib/python3.8/dist-packages/IPython/core/interactiveshell.py:3326: FutureWarning: The error_bad_lines argument has been deprecated and will be removed in a future version.\n",
            "\n",
            "\n",
            "  exec(code_obj, self.user_global_ns, self.user_ns)\n",
            "b'Skipping line 533719: expected 23 fields, saw 24\\n'\n",
            "b'Skipping line 1149094: expected 23 fields, saw 41\\n'\n"
          ]
        }
      ],
      "source": [
        "df1=pd.read_csv(\"/content/drive/MyDrive/datascience/Chicago_Crimes_2005_to_2007.csv\",error_bad_lines=False)\n",
        "df2=pd.read_csv(\"/content/drive/MyDrive/datascience/Chicago_Crimes_2008_to_2011.csv\",error_bad_lines=False)\n",
        "df3=pd.read_csv(\"/content/drive/MyDrive/datascience/Chicago_Crimes_2012_to_2017.csv\",error_bad_lines=False)\n"
      ]
    },
    {
      "cell_type": "code",
      "execution_count": 7,
      "metadata": {
        "id": "L05sSPn0fmum",
        "colab": {
          "base_uri": "https://localhost:8080/",
          "height": 490
        },
        "outputId": "7b4c19f1-01e3-4c72-8736-806fe0eb15ba"
      },
      "outputs": [
        {
          "output_type": "execute_result",
          "data": {
            "text/plain": [
              "   Unnamed: 0        ID Case Number                    Date  \\\n",
              "0           3  10508693    HZ250496  05/03/2016 11:40:00 PM   \n",
              "1          89  10508695    HZ250409  05/03/2016 09:40:00 PM   \n",
              "2         197  10508697    HZ250503  05/03/2016 11:31:00 PM   \n",
              "3         673  10508698    HZ250424  05/03/2016 10:10:00 PM   \n",
              "4         911  10508699    HZ250455  05/03/2016 10:00:00 PM   \n",
              "\n",
              "                 Block  IUCR            Primary Type              Description  \\\n",
              "0   013XX S SAWYER AVE  0486                 BATTERY  DOMESTIC BATTERY SIMPLE   \n",
              "1   061XX S DREXEL AVE  0486                 BATTERY  DOMESTIC BATTERY SIMPLE   \n",
              "2  053XX W CHICAGO AVE  0470  PUBLIC PEACE VIOLATION         RECKLESS CONDUCT   \n",
              "3    049XX W FULTON ST  0460                 BATTERY                   SIMPLE   \n",
              "4    003XX N LOTUS AVE  0820                   THEFT           $500 AND UNDER   \n",
              "\n",
              "  Location Description  Arrest  ...  Ward  Community Area  FBI Code  \\\n",
              "0            APARTMENT    True  ...  24.0            29.0       08B   \n",
              "1            RESIDENCE   False  ...  20.0            42.0       08B   \n",
              "2               STREET   False  ...  37.0            25.0        24   \n",
              "3             SIDEWALK   False  ...  28.0            25.0       08B   \n",
              "4            RESIDENCE   False  ...  28.0            25.0        06   \n",
              "\n",
              "   X Coordinate  Y Coordinate  Year              Updated On   Latitude  \\\n",
              "0     1154907.0     1893681.0  2016  05/10/2016 03:56:50 PM  41.864073   \n",
              "1     1183066.0     1864330.0  2016  05/10/2016 03:56:50 PM  41.782922   \n",
              "2     1140789.0     1904819.0  2016  05/10/2016 03:56:50 PM  41.894908   \n",
              "3     1143223.0     1901475.0  2016  05/10/2016 03:56:50 PM  41.885687   \n",
              "4     1139890.0     1901675.0  2016  05/10/2016 03:56:50 PM  41.886297   \n",
              "\n",
              "   Longitude                       Location  \n",
              "0 -87.706819  (41.864073157, -87.706818608)  \n",
              "1 -87.604363   (41.782921527, -87.60436317)  \n",
              "2 -87.758372  (41.894908283, -87.758371958)  \n",
              "3 -87.749516  (41.885686845, -87.749515983)  \n",
              "4 -87.761751  (41.886297242, -87.761750709)  \n",
              "\n",
              "[5 rows x 23 columns]"
            ],
            "text/html": [
              "\n",
              "  <div id=\"df-0d67b8af-4637-43c0-bac2-90454271f55f\">\n",
              "    <div class=\"colab-df-container\">\n",
              "      <div>\n",
              "<style scoped>\n",
              "    .dataframe tbody tr th:only-of-type {\n",
              "        vertical-align: middle;\n",
              "    }\n",
              "\n",
              "    .dataframe tbody tr th {\n",
              "        vertical-align: top;\n",
              "    }\n",
              "\n",
              "    .dataframe thead th {\n",
              "        text-align: right;\n",
              "    }\n",
              "</style>\n",
              "<table border=\"1\" class=\"dataframe\">\n",
              "  <thead>\n",
              "    <tr style=\"text-align: right;\">\n",
              "      <th></th>\n",
              "      <th>Unnamed: 0</th>\n",
              "      <th>ID</th>\n",
              "      <th>Case Number</th>\n",
              "      <th>Date</th>\n",
              "      <th>Block</th>\n",
              "      <th>IUCR</th>\n",
              "      <th>Primary Type</th>\n",
              "      <th>Description</th>\n",
              "      <th>Location Description</th>\n",
              "      <th>Arrest</th>\n",
              "      <th>...</th>\n",
              "      <th>Ward</th>\n",
              "      <th>Community Area</th>\n",
              "      <th>FBI Code</th>\n",
              "      <th>X Coordinate</th>\n",
              "      <th>Y Coordinate</th>\n",
              "      <th>Year</th>\n",
              "      <th>Updated On</th>\n",
              "      <th>Latitude</th>\n",
              "      <th>Longitude</th>\n",
              "      <th>Location</th>\n",
              "    </tr>\n",
              "  </thead>\n",
              "  <tbody>\n",
              "    <tr>\n",
              "      <th>0</th>\n",
              "      <td>3</td>\n",
              "      <td>10508693</td>\n",
              "      <td>HZ250496</td>\n",
              "      <td>05/03/2016 11:40:00 PM</td>\n",
              "      <td>013XX S SAWYER AVE</td>\n",
              "      <td>0486</td>\n",
              "      <td>BATTERY</td>\n",
              "      <td>DOMESTIC BATTERY SIMPLE</td>\n",
              "      <td>APARTMENT</td>\n",
              "      <td>True</td>\n",
              "      <td>...</td>\n",
              "      <td>24.0</td>\n",
              "      <td>29.0</td>\n",
              "      <td>08B</td>\n",
              "      <td>1154907.0</td>\n",
              "      <td>1893681.0</td>\n",
              "      <td>2016</td>\n",
              "      <td>05/10/2016 03:56:50 PM</td>\n",
              "      <td>41.864073</td>\n",
              "      <td>-87.706819</td>\n",
              "      <td>(41.864073157, -87.706818608)</td>\n",
              "    </tr>\n",
              "    <tr>\n",
              "      <th>1</th>\n",
              "      <td>89</td>\n",
              "      <td>10508695</td>\n",
              "      <td>HZ250409</td>\n",
              "      <td>05/03/2016 09:40:00 PM</td>\n",
              "      <td>061XX S DREXEL AVE</td>\n",
              "      <td>0486</td>\n",
              "      <td>BATTERY</td>\n",
              "      <td>DOMESTIC BATTERY SIMPLE</td>\n",
              "      <td>RESIDENCE</td>\n",
              "      <td>False</td>\n",
              "      <td>...</td>\n",
              "      <td>20.0</td>\n",
              "      <td>42.0</td>\n",
              "      <td>08B</td>\n",
              "      <td>1183066.0</td>\n",
              "      <td>1864330.0</td>\n",
              "      <td>2016</td>\n",
              "      <td>05/10/2016 03:56:50 PM</td>\n",
              "      <td>41.782922</td>\n",
              "      <td>-87.604363</td>\n",
              "      <td>(41.782921527, -87.60436317)</td>\n",
              "    </tr>\n",
              "    <tr>\n",
              "      <th>2</th>\n",
              "      <td>197</td>\n",
              "      <td>10508697</td>\n",
              "      <td>HZ250503</td>\n",
              "      <td>05/03/2016 11:31:00 PM</td>\n",
              "      <td>053XX W CHICAGO AVE</td>\n",
              "      <td>0470</td>\n",
              "      <td>PUBLIC PEACE VIOLATION</td>\n",
              "      <td>RECKLESS CONDUCT</td>\n",
              "      <td>STREET</td>\n",
              "      <td>False</td>\n",
              "      <td>...</td>\n",
              "      <td>37.0</td>\n",
              "      <td>25.0</td>\n",
              "      <td>24</td>\n",
              "      <td>1140789.0</td>\n",
              "      <td>1904819.0</td>\n",
              "      <td>2016</td>\n",
              "      <td>05/10/2016 03:56:50 PM</td>\n",
              "      <td>41.894908</td>\n",
              "      <td>-87.758372</td>\n",
              "      <td>(41.894908283, -87.758371958)</td>\n",
              "    </tr>\n",
              "    <tr>\n",
              "      <th>3</th>\n",
              "      <td>673</td>\n",
              "      <td>10508698</td>\n",
              "      <td>HZ250424</td>\n",
              "      <td>05/03/2016 10:10:00 PM</td>\n",
              "      <td>049XX W FULTON ST</td>\n",
              "      <td>0460</td>\n",
              "      <td>BATTERY</td>\n",
              "      <td>SIMPLE</td>\n",
              "      <td>SIDEWALK</td>\n",
              "      <td>False</td>\n",
              "      <td>...</td>\n",
              "      <td>28.0</td>\n",
              "      <td>25.0</td>\n",
              "      <td>08B</td>\n",
              "      <td>1143223.0</td>\n",
              "      <td>1901475.0</td>\n",
              "      <td>2016</td>\n",
              "      <td>05/10/2016 03:56:50 PM</td>\n",
              "      <td>41.885687</td>\n",
              "      <td>-87.749516</td>\n",
              "      <td>(41.885686845, -87.749515983)</td>\n",
              "    </tr>\n",
              "    <tr>\n",
              "      <th>4</th>\n",
              "      <td>911</td>\n",
              "      <td>10508699</td>\n",
              "      <td>HZ250455</td>\n",
              "      <td>05/03/2016 10:00:00 PM</td>\n",
              "      <td>003XX N LOTUS AVE</td>\n",
              "      <td>0820</td>\n",
              "      <td>THEFT</td>\n",
              "      <td>$500 AND UNDER</td>\n",
              "      <td>RESIDENCE</td>\n",
              "      <td>False</td>\n",
              "      <td>...</td>\n",
              "      <td>28.0</td>\n",
              "      <td>25.0</td>\n",
              "      <td>06</td>\n",
              "      <td>1139890.0</td>\n",
              "      <td>1901675.0</td>\n",
              "      <td>2016</td>\n",
              "      <td>05/10/2016 03:56:50 PM</td>\n",
              "      <td>41.886297</td>\n",
              "      <td>-87.761751</td>\n",
              "      <td>(41.886297242, -87.761750709)</td>\n",
              "    </tr>\n",
              "  </tbody>\n",
              "</table>\n",
              "<p>5 rows × 23 columns</p>\n",
              "</div>\n",
              "      <button class=\"colab-df-convert\" onclick=\"convertToInteractive('df-0d67b8af-4637-43c0-bac2-90454271f55f')\"\n",
              "              title=\"Convert this dataframe to an interactive table.\"\n",
              "              style=\"display:none;\">\n",
              "        \n",
              "  <svg xmlns=\"http://www.w3.org/2000/svg\" height=\"24px\"viewBox=\"0 0 24 24\"\n",
              "       width=\"24px\">\n",
              "    <path d=\"M0 0h24v24H0V0z\" fill=\"none\"/>\n",
              "    <path d=\"M18.56 5.44l.94 2.06.94-2.06 2.06-.94-2.06-.94-.94-2.06-.94 2.06-2.06.94zm-11 1L8.5 8.5l.94-2.06 2.06-.94-2.06-.94L8.5 2.5l-.94 2.06-2.06.94zm10 10l.94 2.06.94-2.06 2.06-.94-2.06-.94-.94-2.06-.94 2.06-2.06.94z\"/><path d=\"M17.41 7.96l-1.37-1.37c-.4-.4-.92-.59-1.43-.59-.52 0-1.04.2-1.43.59L10.3 9.45l-7.72 7.72c-.78.78-.78 2.05 0 2.83L4 21.41c.39.39.9.59 1.41.59.51 0 1.02-.2 1.41-.59l7.78-7.78 2.81-2.81c.8-.78.8-2.07 0-2.86zM5.41 20L4 18.59l7.72-7.72 1.47 1.35L5.41 20z\"/>\n",
              "  </svg>\n",
              "      </button>\n",
              "      \n",
              "  <style>\n",
              "    .colab-df-container {\n",
              "      display:flex;\n",
              "      flex-wrap:wrap;\n",
              "      gap: 12px;\n",
              "    }\n",
              "\n",
              "    .colab-df-convert {\n",
              "      background-color: #E8F0FE;\n",
              "      border: none;\n",
              "      border-radius: 50%;\n",
              "      cursor: pointer;\n",
              "      display: none;\n",
              "      fill: #1967D2;\n",
              "      height: 32px;\n",
              "      padding: 0 0 0 0;\n",
              "      width: 32px;\n",
              "    }\n",
              "\n",
              "    .colab-df-convert:hover {\n",
              "      background-color: #E2EBFA;\n",
              "      box-shadow: 0px 1px 2px rgba(60, 64, 67, 0.3), 0px 1px 3px 1px rgba(60, 64, 67, 0.15);\n",
              "      fill: #174EA6;\n",
              "    }\n",
              "\n",
              "    [theme=dark] .colab-df-convert {\n",
              "      background-color: #3B4455;\n",
              "      fill: #D2E3FC;\n",
              "    }\n",
              "\n",
              "    [theme=dark] .colab-df-convert:hover {\n",
              "      background-color: #434B5C;\n",
              "      box-shadow: 0px 1px 3px 1px rgba(0, 0, 0, 0.15);\n",
              "      filter: drop-shadow(0px 1px 2px rgba(0, 0, 0, 0.3));\n",
              "      fill: #FFFFFF;\n",
              "    }\n",
              "  </style>\n",
              "\n",
              "      <script>\n",
              "        const buttonEl =\n",
              "          document.querySelector('#df-0d67b8af-4637-43c0-bac2-90454271f55f button.colab-df-convert');\n",
              "        buttonEl.style.display =\n",
              "          google.colab.kernel.accessAllowed ? 'block' : 'none';\n",
              "\n",
              "        async function convertToInteractive(key) {\n",
              "          const element = document.querySelector('#df-0d67b8af-4637-43c0-bac2-90454271f55f');\n",
              "          const dataTable =\n",
              "            await google.colab.kernel.invokeFunction('convertToInteractive',\n",
              "                                                     [key], {});\n",
              "          if (!dataTable) return;\n",
              "\n",
              "          const docLinkHtml = 'Like what you see? Visit the ' +\n",
              "            '<a target=\"_blank\" href=https://colab.research.google.com/notebooks/data_table.ipynb>data table notebook</a>'\n",
              "            + ' to learn more about interactive tables.';\n",
              "          element.innerHTML = '';\n",
              "          dataTable['output_type'] = 'display_data';\n",
              "          await google.colab.output.renderOutput(dataTable, element);\n",
              "          const docLink = document.createElement('div');\n",
              "          docLink.innerHTML = docLinkHtml;\n",
              "          element.appendChild(docLink);\n",
              "        }\n",
              "      </script>\n",
              "    </div>\n",
              "  </div>\n",
              "  "
            ]
          },
          "metadata": {},
          "execution_count": 7
        }
      ],
      "source": [
        "df3.head()"
      ]
    },
    {
      "cell_type": "code",
      "execution_count": 8,
      "metadata": {
        "id": "aOn-Gvq2erav"
      },
      "outputs": [],
      "source": [
        "df=pd.concat([df1,df2,df3])"
      ]
    },
    {
      "cell_type": "code",
      "execution_count": 9,
      "metadata": {
        "id": "ZIcCoThigm5t",
        "colab": {
          "base_uri": "https://localhost:8080/",
          "height": 490
        },
        "outputId": "19d143ee-d39e-40ee-a8f2-7f1b84a34bf5"
      },
      "outputs": [
        {
          "output_type": "execute_result",
          "data": {
            "text/plain": [
              "   Unnamed: 0       ID Case Number                    Date  \\\n",
              "0           0  4673626    HM274058  04/02/2006 01:00:00 PM   \n",
              "1           1  4673627    HM202199  02/26/2006 01:40:48 PM   \n",
              "2           2  4673628    HM113861  01/08/2006 11:16:00 PM   \n",
              "3           4  4673629    HM274049  04/05/2006 06:45:00 PM   \n",
              "4           5  4673630    HM187120  02/17/2006 09:03:14 PM   \n",
              "\n",
              "                 Block  IUCR   Primary Type                   Description  \\\n",
              "0    055XX N MANGO AVE  2825  OTHER OFFENSE       HARASSMENT BY TELEPHONE   \n",
              "1   065XX S RHODES AVE  2017      NARCOTICS            MANU/DELIVER:CRACK   \n",
              "2      013XX E 69TH ST  051A        ASSAULT           AGGRAVATED: HANDGUN   \n",
              "3  061XX W NEWPORT AVE  0460        BATTERY                        SIMPLE   \n",
              "4      037XX W 60TH ST  1811      NARCOTICS  POSS: CANNABIS 30GMS OR LESS   \n",
              "\n",
              "  Location Description  Arrest  ...  Ward  Community Area  FBI Code  \\\n",
              "0            RESIDENCE   False  ...  45.0            11.0        26   \n",
              "1             SIDEWALK    True  ...  20.0            42.0        18   \n",
              "2                OTHER   False  ...   5.0            69.0       04A   \n",
              "3            RESIDENCE   False  ...  38.0            17.0       08B   \n",
              "4                ALLEY    True  ...  13.0            65.0        18   \n",
              "\n",
              "   X Coordinate  Y Coordinate  Year              Updated On   Latitude  \\\n",
              "0     1136872.0     1936499.0  2006  04/15/2016 08:55:02 AM  41.981913   \n",
              "1     1181027.0     1861693.0  2006  04/15/2016 08:55:02 AM  41.775733   \n",
              "2     1186023.0     1859609.0  2006  04/15/2016 08:55:02 AM  41.769897   \n",
              "3     1134772.0     1922299.0  2006  04/15/2016 08:55:02 AM  41.942984   \n",
              "4     1152412.0     1864560.0  2006  04/15/2016 08:55:02 AM  41.784211   \n",
              "\n",
              "   Longitude                       Location  \n",
              "0 -87.771996  (41.981912692, -87.771996382)  \n",
              "1 -87.611920  (41.775732538, -87.611919814)  \n",
              "2 -87.593671  (41.769897392, -87.593670899)  \n",
              "3 -87.780057  (41.942984005, -87.780056951)  \n",
              "4 -87.716745   (41.784210853, -87.71674491)  \n",
              "\n",
              "[5 rows x 23 columns]"
            ],
            "text/html": [
              "\n",
              "  <div id=\"df-82275ef9-233c-4c6f-881b-d357fef7b563\">\n",
              "    <div class=\"colab-df-container\">\n",
              "      <div>\n",
              "<style scoped>\n",
              "    .dataframe tbody tr th:only-of-type {\n",
              "        vertical-align: middle;\n",
              "    }\n",
              "\n",
              "    .dataframe tbody tr th {\n",
              "        vertical-align: top;\n",
              "    }\n",
              "\n",
              "    .dataframe thead th {\n",
              "        text-align: right;\n",
              "    }\n",
              "</style>\n",
              "<table border=\"1\" class=\"dataframe\">\n",
              "  <thead>\n",
              "    <tr style=\"text-align: right;\">\n",
              "      <th></th>\n",
              "      <th>Unnamed: 0</th>\n",
              "      <th>ID</th>\n",
              "      <th>Case Number</th>\n",
              "      <th>Date</th>\n",
              "      <th>Block</th>\n",
              "      <th>IUCR</th>\n",
              "      <th>Primary Type</th>\n",
              "      <th>Description</th>\n",
              "      <th>Location Description</th>\n",
              "      <th>Arrest</th>\n",
              "      <th>...</th>\n",
              "      <th>Ward</th>\n",
              "      <th>Community Area</th>\n",
              "      <th>FBI Code</th>\n",
              "      <th>X Coordinate</th>\n",
              "      <th>Y Coordinate</th>\n",
              "      <th>Year</th>\n",
              "      <th>Updated On</th>\n",
              "      <th>Latitude</th>\n",
              "      <th>Longitude</th>\n",
              "      <th>Location</th>\n",
              "    </tr>\n",
              "  </thead>\n",
              "  <tbody>\n",
              "    <tr>\n",
              "      <th>0</th>\n",
              "      <td>0</td>\n",
              "      <td>4673626</td>\n",
              "      <td>HM274058</td>\n",
              "      <td>04/02/2006 01:00:00 PM</td>\n",
              "      <td>055XX N MANGO AVE</td>\n",
              "      <td>2825</td>\n",
              "      <td>OTHER OFFENSE</td>\n",
              "      <td>HARASSMENT BY TELEPHONE</td>\n",
              "      <td>RESIDENCE</td>\n",
              "      <td>False</td>\n",
              "      <td>...</td>\n",
              "      <td>45.0</td>\n",
              "      <td>11.0</td>\n",
              "      <td>26</td>\n",
              "      <td>1136872.0</td>\n",
              "      <td>1936499.0</td>\n",
              "      <td>2006</td>\n",
              "      <td>04/15/2016 08:55:02 AM</td>\n",
              "      <td>41.981913</td>\n",
              "      <td>-87.771996</td>\n",
              "      <td>(41.981912692, -87.771996382)</td>\n",
              "    </tr>\n",
              "    <tr>\n",
              "      <th>1</th>\n",
              "      <td>1</td>\n",
              "      <td>4673627</td>\n",
              "      <td>HM202199</td>\n",
              "      <td>02/26/2006 01:40:48 PM</td>\n",
              "      <td>065XX S RHODES AVE</td>\n",
              "      <td>2017</td>\n",
              "      <td>NARCOTICS</td>\n",
              "      <td>MANU/DELIVER:CRACK</td>\n",
              "      <td>SIDEWALK</td>\n",
              "      <td>True</td>\n",
              "      <td>...</td>\n",
              "      <td>20.0</td>\n",
              "      <td>42.0</td>\n",
              "      <td>18</td>\n",
              "      <td>1181027.0</td>\n",
              "      <td>1861693.0</td>\n",
              "      <td>2006</td>\n",
              "      <td>04/15/2016 08:55:02 AM</td>\n",
              "      <td>41.775733</td>\n",
              "      <td>-87.611920</td>\n",
              "      <td>(41.775732538, -87.611919814)</td>\n",
              "    </tr>\n",
              "    <tr>\n",
              "      <th>2</th>\n",
              "      <td>2</td>\n",
              "      <td>4673628</td>\n",
              "      <td>HM113861</td>\n",
              "      <td>01/08/2006 11:16:00 PM</td>\n",
              "      <td>013XX E 69TH ST</td>\n",
              "      <td>051A</td>\n",
              "      <td>ASSAULT</td>\n",
              "      <td>AGGRAVATED: HANDGUN</td>\n",
              "      <td>OTHER</td>\n",
              "      <td>False</td>\n",
              "      <td>...</td>\n",
              "      <td>5.0</td>\n",
              "      <td>69.0</td>\n",
              "      <td>04A</td>\n",
              "      <td>1186023.0</td>\n",
              "      <td>1859609.0</td>\n",
              "      <td>2006</td>\n",
              "      <td>04/15/2016 08:55:02 AM</td>\n",
              "      <td>41.769897</td>\n",
              "      <td>-87.593671</td>\n",
              "      <td>(41.769897392, -87.593670899)</td>\n",
              "    </tr>\n",
              "    <tr>\n",
              "      <th>3</th>\n",
              "      <td>4</td>\n",
              "      <td>4673629</td>\n",
              "      <td>HM274049</td>\n",
              "      <td>04/05/2006 06:45:00 PM</td>\n",
              "      <td>061XX W NEWPORT AVE</td>\n",
              "      <td>0460</td>\n",
              "      <td>BATTERY</td>\n",
              "      <td>SIMPLE</td>\n",
              "      <td>RESIDENCE</td>\n",
              "      <td>False</td>\n",
              "      <td>...</td>\n",
              "      <td>38.0</td>\n",
              "      <td>17.0</td>\n",
              "      <td>08B</td>\n",
              "      <td>1134772.0</td>\n",
              "      <td>1922299.0</td>\n",
              "      <td>2006</td>\n",
              "      <td>04/15/2016 08:55:02 AM</td>\n",
              "      <td>41.942984</td>\n",
              "      <td>-87.780057</td>\n",
              "      <td>(41.942984005, -87.780056951)</td>\n",
              "    </tr>\n",
              "    <tr>\n",
              "      <th>4</th>\n",
              "      <td>5</td>\n",
              "      <td>4673630</td>\n",
              "      <td>HM187120</td>\n",
              "      <td>02/17/2006 09:03:14 PM</td>\n",
              "      <td>037XX W 60TH ST</td>\n",
              "      <td>1811</td>\n",
              "      <td>NARCOTICS</td>\n",
              "      <td>POSS: CANNABIS 30GMS OR LESS</td>\n",
              "      <td>ALLEY</td>\n",
              "      <td>True</td>\n",
              "      <td>...</td>\n",
              "      <td>13.0</td>\n",
              "      <td>65.0</td>\n",
              "      <td>18</td>\n",
              "      <td>1152412.0</td>\n",
              "      <td>1864560.0</td>\n",
              "      <td>2006</td>\n",
              "      <td>04/15/2016 08:55:02 AM</td>\n",
              "      <td>41.784211</td>\n",
              "      <td>-87.716745</td>\n",
              "      <td>(41.784210853, -87.71674491)</td>\n",
              "    </tr>\n",
              "  </tbody>\n",
              "</table>\n",
              "<p>5 rows × 23 columns</p>\n",
              "</div>\n",
              "      <button class=\"colab-df-convert\" onclick=\"convertToInteractive('df-82275ef9-233c-4c6f-881b-d357fef7b563')\"\n",
              "              title=\"Convert this dataframe to an interactive table.\"\n",
              "              style=\"display:none;\">\n",
              "        \n",
              "  <svg xmlns=\"http://www.w3.org/2000/svg\" height=\"24px\"viewBox=\"0 0 24 24\"\n",
              "       width=\"24px\">\n",
              "    <path d=\"M0 0h24v24H0V0z\" fill=\"none\"/>\n",
              "    <path d=\"M18.56 5.44l.94 2.06.94-2.06 2.06-.94-2.06-.94-.94-2.06-.94 2.06-2.06.94zm-11 1L8.5 8.5l.94-2.06 2.06-.94-2.06-.94L8.5 2.5l-.94 2.06-2.06.94zm10 10l.94 2.06.94-2.06 2.06-.94-2.06-.94-.94-2.06-.94 2.06-2.06.94z\"/><path d=\"M17.41 7.96l-1.37-1.37c-.4-.4-.92-.59-1.43-.59-.52 0-1.04.2-1.43.59L10.3 9.45l-7.72 7.72c-.78.78-.78 2.05 0 2.83L4 21.41c.39.39.9.59 1.41.59.51 0 1.02-.2 1.41-.59l7.78-7.78 2.81-2.81c.8-.78.8-2.07 0-2.86zM5.41 20L4 18.59l7.72-7.72 1.47 1.35L5.41 20z\"/>\n",
              "  </svg>\n",
              "      </button>\n",
              "      \n",
              "  <style>\n",
              "    .colab-df-container {\n",
              "      display:flex;\n",
              "      flex-wrap:wrap;\n",
              "      gap: 12px;\n",
              "    }\n",
              "\n",
              "    .colab-df-convert {\n",
              "      background-color: #E8F0FE;\n",
              "      border: none;\n",
              "      border-radius: 50%;\n",
              "      cursor: pointer;\n",
              "      display: none;\n",
              "      fill: #1967D2;\n",
              "      height: 32px;\n",
              "      padding: 0 0 0 0;\n",
              "      width: 32px;\n",
              "    }\n",
              "\n",
              "    .colab-df-convert:hover {\n",
              "      background-color: #E2EBFA;\n",
              "      box-shadow: 0px 1px 2px rgba(60, 64, 67, 0.3), 0px 1px 3px 1px rgba(60, 64, 67, 0.15);\n",
              "      fill: #174EA6;\n",
              "    }\n",
              "\n",
              "    [theme=dark] .colab-df-convert {\n",
              "      background-color: #3B4455;\n",
              "      fill: #D2E3FC;\n",
              "    }\n",
              "\n",
              "    [theme=dark] .colab-df-convert:hover {\n",
              "      background-color: #434B5C;\n",
              "      box-shadow: 0px 1px 3px 1px rgba(0, 0, 0, 0.15);\n",
              "      filter: drop-shadow(0px 1px 2px rgba(0, 0, 0, 0.3));\n",
              "      fill: #FFFFFF;\n",
              "    }\n",
              "  </style>\n",
              "\n",
              "      <script>\n",
              "        const buttonEl =\n",
              "          document.querySelector('#df-82275ef9-233c-4c6f-881b-d357fef7b563 button.colab-df-convert');\n",
              "        buttonEl.style.display =\n",
              "          google.colab.kernel.accessAllowed ? 'block' : 'none';\n",
              "\n",
              "        async function convertToInteractive(key) {\n",
              "          const element = document.querySelector('#df-82275ef9-233c-4c6f-881b-d357fef7b563');\n",
              "          const dataTable =\n",
              "            await google.colab.kernel.invokeFunction('convertToInteractive',\n",
              "                                                     [key], {});\n",
              "          if (!dataTable) return;\n",
              "\n",
              "          const docLinkHtml = 'Like what you see? Visit the ' +\n",
              "            '<a target=\"_blank\" href=https://colab.research.google.com/notebooks/data_table.ipynb>data table notebook</a>'\n",
              "            + ' to learn more about interactive tables.';\n",
              "          element.innerHTML = '';\n",
              "          dataTable['output_type'] = 'display_data';\n",
              "          await google.colab.output.renderOutput(dataTable, element);\n",
              "          const docLink = document.createElement('div');\n",
              "          docLink.innerHTML = docLinkHtml;\n",
              "          element.appendChild(docLink);\n",
              "        }\n",
              "      </script>\n",
              "    </div>\n",
              "  </div>\n",
              "  "
            ]
          },
          "metadata": {},
          "execution_count": 9
        }
      ],
      "source": [
        "df.head()"
      ]
    },
    {
      "cell_type": "code",
      "execution_count": 10,
      "metadata": {
        "id": "F9YXhkr9gqAQ",
        "colab": {
          "base_uri": "https://localhost:8080/",
          "height": 490
        },
        "outputId": "e08d2cc6-55f6-4d85-df9a-900a0ea0d983"
      },
      "outputs": [
        {
          "output_type": "execute_result",
          "data": {
            "text/plain": [
              "         Unnamed: 0        ID Case Number                    Date  \\\n",
              "1456709     6250330  10508679    HZ250507  05/03/2016 11:33:00 PM   \n",
              "1456710     6251089  10508680    HZ250491  05/03/2016 11:30:00 PM   \n",
              "1456711     6251349  10508681    HZ250479  05/03/2016 12:15:00 AM   \n",
              "1456712     6253257  10508690    HZ250370  05/03/2016 09:07:00 PM   \n",
              "1456713     6253474  10508692    HZ250517  05/03/2016 11:38:00 PM   \n",
              "\n",
              "                        Block  IUCR     Primary Type              Description  \\\n",
              "1456709       026XX W 23RD PL  0486          BATTERY  DOMESTIC BATTERY SIMPLE   \n",
              "1456710   073XX S HARVARD AVE  1310  CRIMINAL DAMAGE              TO PROPERTY   \n",
              "1456711       024XX W 63RD ST  041A          BATTERY      AGGRAVATED: HANDGUN   \n",
              "1456712  082XX S EXCHANGE AVE  0486          BATTERY  DOMESTIC BATTERY SIMPLE   \n",
              "1456713       001XX E 75TH ST  5007    OTHER OFFENSE  OTHER WEAPONS VIOLATION   \n",
              "\n",
              "                   Location Description  Arrest  ...  Ward  Community Area  \\\n",
              "1456709                       APARTMENT    True  ...  28.0            30.0   \n",
              "1456710                       APARTMENT    True  ...  17.0            69.0   \n",
              "1456711                        SIDEWALK   False  ...  15.0            66.0   \n",
              "1456712                        SIDEWALK   False  ...   7.0            46.0   \n",
              "1456713  PARKING LOT/GARAGE(NON.RESID.)    True  ...   6.0            69.0   \n",
              "\n",
              "         FBI Code  X Coordinate  Y Coordinate  Year              Updated On  \\\n",
              "1456709       08B     1159105.0     1888300.0  2016  05/10/2016 03:56:50 PM   \n",
              "1456710        14     1175230.0     1856183.0  2016  05/10/2016 03:56:50 PM   \n",
              "1456711       04B     1161027.0     1862810.0  2016  05/10/2016 03:56:50 PM   \n",
              "1456712       08B     1197261.0     1850727.0  2016  05/10/2016 03:56:50 PM   \n",
              "1456713        26     1178696.0     1855324.0  2016  05/10/2016 03:56:50 PM   \n",
              "\n",
              "          Latitude  Longitude                       Location  \n",
              "1456709  41.849222 -87.691556   (41.849222028, -87.69155551)  \n",
              "1456710  41.760744 -87.633335   (41.760743949, -87.63333531)  \n",
              "1456711  41.779235 -87.685207  (41.779234743, -87.685207125)  \n",
              "1456712  41.745252 -87.552773  (41.745251975, -87.552773464)  \n",
              "1456713  41.758309 -87.620658   (41.75830866, -87.620658418)  \n",
              "\n",
              "[5 rows x 23 columns]"
            ],
            "text/html": [
              "\n",
              "  <div id=\"df-e627a48f-73dc-4be2-817f-52a67fdf0043\">\n",
              "    <div class=\"colab-df-container\">\n",
              "      <div>\n",
              "<style scoped>\n",
              "    .dataframe tbody tr th:only-of-type {\n",
              "        vertical-align: middle;\n",
              "    }\n",
              "\n",
              "    .dataframe tbody tr th {\n",
              "        vertical-align: top;\n",
              "    }\n",
              "\n",
              "    .dataframe thead th {\n",
              "        text-align: right;\n",
              "    }\n",
              "</style>\n",
              "<table border=\"1\" class=\"dataframe\">\n",
              "  <thead>\n",
              "    <tr style=\"text-align: right;\">\n",
              "      <th></th>\n",
              "      <th>Unnamed: 0</th>\n",
              "      <th>ID</th>\n",
              "      <th>Case Number</th>\n",
              "      <th>Date</th>\n",
              "      <th>Block</th>\n",
              "      <th>IUCR</th>\n",
              "      <th>Primary Type</th>\n",
              "      <th>Description</th>\n",
              "      <th>Location Description</th>\n",
              "      <th>Arrest</th>\n",
              "      <th>...</th>\n",
              "      <th>Ward</th>\n",
              "      <th>Community Area</th>\n",
              "      <th>FBI Code</th>\n",
              "      <th>X Coordinate</th>\n",
              "      <th>Y Coordinate</th>\n",
              "      <th>Year</th>\n",
              "      <th>Updated On</th>\n",
              "      <th>Latitude</th>\n",
              "      <th>Longitude</th>\n",
              "      <th>Location</th>\n",
              "    </tr>\n",
              "  </thead>\n",
              "  <tbody>\n",
              "    <tr>\n",
              "      <th>1456709</th>\n",
              "      <td>6250330</td>\n",
              "      <td>10508679</td>\n",
              "      <td>HZ250507</td>\n",
              "      <td>05/03/2016 11:33:00 PM</td>\n",
              "      <td>026XX W 23RD PL</td>\n",
              "      <td>0486</td>\n",
              "      <td>BATTERY</td>\n",
              "      <td>DOMESTIC BATTERY SIMPLE</td>\n",
              "      <td>APARTMENT</td>\n",
              "      <td>True</td>\n",
              "      <td>...</td>\n",
              "      <td>28.0</td>\n",
              "      <td>30.0</td>\n",
              "      <td>08B</td>\n",
              "      <td>1159105.0</td>\n",
              "      <td>1888300.0</td>\n",
              "      <td>2016</td>\n",
              "      <td>05/10/2016 03:56:50 PM</td>\n",
              "      <td>41.849222</td>\n",
              "      <td>-87.691556</td>\n",
              "      <td>(41.849222028, -87.69155551)</td>\n",
              "    </tr>\n",
              "    <tr>\n",
              "      <th>1456710</th>\n",
              "      <td>6251089</td>\n",
              "      <td>10508680</td>\n",
              "      <td>HZ250491</td>\n",
              "      <td>05/03/2016 11:30:00 PM</td>\n",
              "      <td>073XX S HARVARD AVE</td>\n",
              "      <td>1310</td>\n",
              "      <td>CRIMINAL DAMAGE</td>\n",
              "      <td>TO PROPERTY</td>\n",
              "      <td>APARTMENT</td>\n",
              "      <td>True</td>\n",
              "      <td>...</td>\n",
              "      <td>17.0</td>\n",
              "      <td>69.0</td>\n",
              "      <td>14</td>\n",
              "      <td>1175230.0</td>\n",
              "      <td>1856183.0</td>\n",
              "      <td>2016</td>\n",
              "      <td>05/10/2016 03:56:50 PM</td>\n",
              "      <td>41.760744</td>\n",
              "      <td>-87.633335</td>\n",
              "      <td>(41.760743949, -87.63333531)</td>\n",
              "    </tr>\n",
              "    <tr>\n",
              "      <th>1456711</th>\n",
              "      <td>6251349</td>\n",
              "      <td>10508681</td>\n",
              "      <td>HZ250479</td>\n",
              "      <td>05/03/2016 12:15:00 AM</td>\n",
              "      <td>024XX W 63RD ST</td>\n",
              "      <td>041A</td>\n",
              "      <td>BATTERY</td>\n",
              "      <td>AGGRAVATED: HANDGUN</td>\n",
              "      <td>SIDEWALK</td>\n",
              "      <td>False</td>\n",
              "      <td>...</td>\n",
              "      <td>15.0</td>\n",
              "      <td>66.0</td>\n",
              "      <td>04B</td>\n",
              "      <td>1161027.0</td>\n",
              "      <td>1862810.0</td>\n",
              "      <td>2016</td>\n",
              "      <td>05/10/2016 03:56:50 PM</td>\n",
              "      <td>41.779235</td>\n",
              "      <td>-87.685207</td>\n",
              "      <td>(41.779234743, -87.685207125)</td>\n",
              "    </tr>\n",
              "    <tr>\n",
              "      <th>1456712</th>\n",
              "      <td>6253257</td>\n",
              "      <td>10508690</td>\n",
              "      <td>HZ250370</td>\n",
              "      <td>05/03/2016 09:07:00 PM</td>\n",
              "      <td>082XX S EXCHANGE AVE</td>\n",
              "      <td>0486</td>\n",
              "      <td>BATTERY</td>\n",
              "      <td>DOMESTIC BATTERY SIMPLE</td>\n",
              "      <td>SIDEWALK</td>\n",
              "      <td>False</td>\n",
              "      <td>...</td>\n",
              "      <td>7.0</td>\n",
              "      <td>46.0</td>\n",
              "      <td>08B</td>\n",
              "      <td>1197261.0</td>\n",
              "      <td>1850727.0</td>\n",
              "      <td>2016</td>\n",
              "      <td>05/10/2016 03:56:50 PM</td>\n",
              "      <td>41.745252</td>\n",
              "      <td>-87.552773</td>\n",
              "      <td>(41.745251975, -87.552773464)</td>\n",
              "    </tr>\n",
              "    <tr>\n",
              "      <th>1456713</th>\n",
              "      <td>6253474</td>\n",
              "      <td>10508692</td>\n",
              "      <td>HZ250517</td>\n",
              "      <td>05/03/2016 11:38:00 PM</td>\n",
              "      <td>001XX E 75TH ST</td>\n",
              "      <td>5007</td>\n",
              "      <td>OTHER OFFENSE</td>\n",
              "      <td>OTHER WEAPONS VIOLATION</td>\n",
              "      <td>PARKING LOT/GARAGE(NON.RESID.)</td>\n",
              "      <td>True</td>\n",
              "      <td>...</td>\n",
              "      <td>6.0</td>\n",
              "      <td>69.0</td>\n",
              "      <td>26</td>\n",
              "      <td>1178696.0</td>\n",
              "      <td>1855324.0</td>\n",
              "      <td>2016</td>\n",
              "      <td>05/10/2016 03:56:50 PM</td>\n",
              "      <td>41.758309</td>\n",
              "      <td>-87.620658</td>\n",
              "      <td>(41.75830866, -87.620658418)</td>\n",
              "    </tr>\n",
              "  </tbody>\n",
              "</table>\n",
              "<p>5 rows × 23 columns</p>\n",
              "</div>\n",
              "      <button class=\"colab-df-convert\" onclick=\"convertToInteractive('df-e627a48f-73dc-4be2-817f-52a67fdf0043')\"\n",
              "              title=\"Convert this dataframe to an interactive table.\"\n",
              "              style=\"display:none;\">\n",
              "        \n",
              "  <svg xmlns=\"http://www.w3.org/2000/svg\" height=\"24px\"viewBox=\"0 0 24 24\"\n",
              "       width=\"24px\">\n",
              "    <path d=\"M0 0h24v24H0V0z\" fill=\"none\"/>\n",
              "    <path d=\"M18.56 5.44l.94 2.06.94-2.06 2.06-.94-2.06-.94-.94-2.06-.94 2.06-2.06.94zm-11 1L8.5 8.5l.94-2.06 2.06-.94-2.06-.94L8.5 2.5l-.94 2.06-2.06.94zm10 10l.94 2.06.94-2.06 2.06-.94-2.06-.94-.94-2.06-.94 2.06-2.06.94z\"/><path d=\"M17.41 7.96l-1.37-1.37c-.4-.4-.92-.59-1.43-.59-.52 0-1.04.2-1.43.59L10.3 9.45l-7.72 7.72c-.78.78-.78 2.05 0 2.83L4 21.41c.39.39.9.59 1.41.59.51 0 1.02-.2 1.41-.59l7.78-7.78 2.81-2.81c.8-.78.8-2.07 0-2.86zM5.41 20L4 18.59l7.72-7.72 1.47 1.35L5.41 20z\"/>\n",
              "  </svg>\n",
              "      </button>\n",
              "      \n",
              "  <style>\n",
              "    .colab-df-container {\n",
              "      display:flex;\n",
              "      flex-wrap:wrap;\n",
              "      gap: 12px;\n",
              "    }\n",
              "\n",
              "    .colab-df-convert {\n",
              "      background-color: #E8F0FE;\n",
              "      border: none;\n",
              "      border-radius: 50%;\n",
              "      cursor: pointer;\n",
              "      display: none;\n",
              "      fill: #1967D2;\n",
              "      height: 32px;\n",
              "      padding: 0 0 0 0;\n",
              "      width: 32px;\n",
              "    }\n",
              "\n",
              "    .colab-df-convert:hover {\n",
              "      background-color: #E2EBFA;\n",
              "      box-shadow: 0px 1px 2px rgba(60, 64, 67, 0.3), 0px 1px 3px 1px rgba(60, 64, 67, 0.15);\n",
              "      fill: #174EA6;\n",
              "    }\n",
              "\n",
              "    [theme=dark] .colab-df-convert {\n",
              "      background-color: #3B4455;\n",
              "      fill: #D2E3FC;\n",
              "    }\n",
              "\n",
              "    [theme=dark] .colab-df-convert:hover {\n",
              "      background-color: #434B5C;\n",
              "      box-shadow: 0px 1px 3px 1px rgba(0, 0, 0, 0.15);\n",
              "      filter: drop-shadow(0px 1px 2px rgba(0, 0, 0, 0.3));\n",
              "      fill: #FFFFFF;\n",
              "    }\n",
              "  </style>\n",
              "\n",
              "      <script>\n",
              "        const buttonEl =\n",
              "          document.querySelector('#df-e627a48f-73dc-4be2-817f-52a67fdf0043 button.colab-df-convert');\n",
              "        buttonEl.style.display =\n",
              "          google.colab.kernel.accessAllowed ? 'block' : 'none';\n",
              "\n",
              "        async function convertToInteractive(key) {\n",
              "          const element = document.querySelector('#df-e627a48f-73dc-4be2-817f-52a67fdf0043');\n",
              "          const dataTable =\n",
              "            await google.colab.kernel.invokeFunction('convertToInteractive',\n",
              "                                                     [key], {});\n",
              "          if (!dataTable) return;\n",
              "\n",
              "          const docLinkHtml = 'Like what you see? Visit the ' +\n",
              "            '<a target=\"_blank\" href=https://colab.research.google.com/notebooks/data_table.ipynb>data table notebook</a>'\n",
              "            + ' to learn more about interactive tables.';\n",
              "          element.innerHTML = '';\n",
              "          dataTable['output_type'] = 'display_data';\n",
              "          await google.colab.output.renderOutput(dataTable, element);\n",
              "          const docLink = document.createElement('div');\n",
              "          docLink.innerHTML = docLinkHtml;\n",
              "          element.appendChild(docLink);\n",
              "        }\n",
              "      </script>\n",
              "    </div>\n",
              "  </div>\n",
              "  "
            ]
          },
          "metadata": {},
          "execution_count": 10
        }
      ],
      "source": [
        "df.tail()"
      ]
    },
    {
      "cell_type": "markdown",
      "metadata": {
        "id": "xrfiFsnVmpcl"
      },
      "source": []
    },
    {
      "cell_type": "markdown",
      "metadata": {
        "id": "wwbe_In1mrrD"
      },
      "source": [
        "#### **1. Find the shape of the data set using the shape attributes :**\n"
      ]
    },
    {
      "cell_type": "code",
      "execution_count": 11,
      "metadata": {
        "id": "6-emO9flngGU",
        "colab": {
          "base_uri": "https://localhost:8080/"
        },
        "outputId": "a24e5937-9953-4cba-8ae9-7221b32a807a"
      },
      "outputs": [
        {
          "output_type": "stream",
          "name": "stdout",
          "text": [
            "Number of rows is 6017767\n",
            "Number of Columns is 23\n"
          ]
        }
      ],
      "source": [
        "print(\"Number of rows is\",df.shape[0])\n",
        "print(\"Number of Columns is\",df.shape[1])"
      ]
    },
    {
      "cell_type": "markdown",
      "metadata": {
        "id": "wFmEX3vmoh--"
      },
      "source": [
        "#### **2. Get information of dataset with info method**"
      ]
    },
    {
      "cell_type": "code",
      "execution_count": 12,
      "metadata": {
        "id": "Y_zRQMsCn6m6",
        "colab": {
          "base_uri": "https://localhost:8080/"
        },
        "outputId": "5499bc23-45aa-440e-f758-9dc77e52ca38"
      },
      "outputs": [
        {
          "output_type": "stream",
          "name": "stdout",
          "text": [
            "<class 'pandas.core.frame.DataFrame'>\n",
            "Int64Index: 6017767 entries, 0 to 1456713\n",
            "Data columns (total 23 columns):\n",
            " #   Column                Dtype  \n",
            "---  ------                -----  \n",
            " 0   Unnamed: 0            int64  \n",
            " 1   ID                    int64  \n",
            " 2   Case Number           object \n",
            " 3   Date                  object \n",
            " 4   Block                 object \n",
            " 5   IUCR                  object \n",
            " 6   Primary Type          object \n",
            " 7   Description           object \n",
            " 8   Location Description  object \n",
            " 9   Arrest                bool   \n",
            " 10  Domestic              bool   \n",
            " 11  Beat                  int64  \n",
            " 12  District              float64\n",
            " 13  Ward                  float64\n",
            " 14  Community Area        float64\n",
            " 15  FBI Code              object \n",
            " 16  X Coordinate          float64\n",
            " 17  Y Coordinate          float64\n",
            " 18  Year                  int64  \n",
            " 19  Updated On            object \n",
            " 20  Latitude              float64\n",
            " 21  Longitude             float64\n",
            " 22  Location              object \n",
            "dtypes: bool(2), float64(7), int64(4), object(10)\n",
            "memory usage: 1021.5+ MB\n"
          ]
        }
      ],
      "source": [
        "df.info()"
      ]
    },
    {
      "cell_type": "code",
      "execution_count": 12,
      "metadata": {
        "id": "RvSh6xpBo17f"
      },
      "outputs": [],
      "source": []
    },
    {
      "cell_type": "markdown",
      "metadata": {
        "id": "YkCnLke1pDBQ"
      },
      "source": [
        "#### **3. Check Null values in the Dataset**"
      ]
    },
    {
      "cell_type": "code",
      "execution_count": 13,
      "metadata": {
        "id": "X-u78q4UpRwV",
        "colab": {
          "base_uri": "https://localhost:8080/"
        },
        "outputId": "58b3dbe8-256e-482e-ecae-1966c13d1a72"
      },
      "outputs": [
        {
          "output_type": "execute_result",
          "data": {
            "text/plain": [
              "Unnamed: 0                  0\n",
              "ID                          0\n",
              "Case Number                 7\n",
              "Date                        0\n",
              "Block                       0\n",
              "IUCR                        0\n",
              "Primary Type                0\n",
              "Description                 0\n",
              "Location Description     1974\n",
              "Arrest                      0\n",
              "Domestic                    0\n",
              "Beat                        0\n",
              "District                   89\n",
              "Ward                       92\n",
              "Community Area           1844\n",
              "FBI Code                    0\n",
              "X Coordinate            74882\n",
              "Y Coordinate            74882\n",
              "Year                        0\n",
              "Updated On                  0\n",
              "Latitude                74882\n",
              "Longitude               74882\n",
              "Location                74882\n",
              "dtype: int64"
            ]
          },
          "metadata": {},
          "execution_count": 13
        }
      ],
      "source": [
        "df.isnull().sum()"
      ]
    },
    {
      "cell_type": "code",
      "execution_count": 13,
      "metadata": {
        "id": "7av_Y0Drpctq"
      },
      "outputs": [],
      "source": []
    },
    {
      "cell_type": "markdown",
      "metadata": {
        "id": "aCJZfdW6piNP"
      },
      "source": [
        "#### **4. Drop Unneccesary Columns and create a new Dataset with our important columns**"
      ]
    },
    {
      "cell_type": "code",
      "execution_count": 14,
      "metadata": {
        "id": "CmhohtSNpxFt",
        "colab": {
          "base_uri": "https://localhost:8080/"
        },
        "outputId": "2f18cbb9-bd70-423d-8ece-7d73d7c77d06"
      },
      "outputs": [
        {
          "output_type": "execute_result",
          "data": {
            "text/plain": [
              "Index(['Unnamed: 0', 'ID', 'Case Number', 'Date', 'Block', 'IUCR',\n",
              "       'Primary Type', 'Description', 'Location Description', 'Arrest',\n",
              "       'Domestic', 'Beat', 'District', 'Ward', 'Community Area', 'FBI Code',\n",
              "       'X Coordinate', 'Y Coordinate', 'Year', 'Updated On', 'Latitude',\n",
              "       'Longitude', 'Location'],\n",
              "      dtype='object')"
            ]
          },
          "metadata": {},
          "execution_count": 14
        }
      ],
      "source": [
        "df.columns"
      ]
    },
    {
      "cell_type": "code",
      "execution_count": 15,
      "metadata": {
        "id": "Ip07BmtEp7-H"
      },
      "outputs": [],
      "source": [
        "dF= df[['ID','Date','Primary Type','Location Description','Arrest','Domestic']]"
      ]
    },
    {
      "cell_type": "code",
      "execution_count": 16,
      "metadata": {
        "id": "cJf4mY2cqfuw",
        "colab": {
          "base_uri": "https://localhost:8080/",
          "height": 206
        },
        "outputId": "cd206e4c-fc10-4295-b270-baa2140f6ed3"
      },
      "outputs": [
        {
          "output_type": "execute_result",
          "data": {
            "text/plain": [
              "        ID                    Date   Primary Type Location Description  \\\n",
              "0  4673626  04/02/2006 01:00:00 PM  OTHER OFFENSE            RESIDENCE   \n",
              "1  4673627  02/26/2006 01:40:48 PM      NARCOTICS             SIDEWALK   \n",
              "2  4673628  01/08/2006 11:16:00 PM        ASSAULT                OTHER   \n",
              "3  4673629  04/05/2006 06:45:00 PM        BATTERY            RESIDENCE   \n",
              "4  4673630  02/17/2006 09:03:14 PM      NARCOTICS                ALLEY   \n",
              "\n",
              "   Arrest  Domestic  \n",
              "0   False     False  \n",
              "1    True     False  \n",
              "2   False     False  \n",
              "3   False     False  \n",
              "4    True     False  "
            ],
            "text/html": [
              "\n",
              "  <div id=\"df-a275a686-971c-4bbc-94e1-8b3c311504db\">\n",
              "    <div class=\"colab-df-container\">\n",
              "      <div>\n",
              "<style scoped>\n",
              "    .dataframe tbody tr th:only-of-type {\n",
              "        vertical-align: middle;\n",
              "    }\n",
              "\n",
              "    .dataframe tbody tr th {\n",
              "        vertical-align: top;\n",
              "    }\n",
              "\n",
              "    .dataframe thead th {\n",
              "        text-align: right;\n",
              "    }\n",
              "</style>\n",
              "<table border=\"1\" class=\"dataframe\">\n",
              "  <thead>\n",
              "    <tr style=\"text-align: right;\">\n",
              "      <th></th>\n",
              "      <th>ID</th>\n",
              "      <th>Date</th>\n",
              "      <th>Primary Type</th>\n",
              "      <th>Location Description</th>\n",
              "      <th>Arrest</th>\n",
              "      <th>Domestic</th>\n",
              "    </tr>\n",
              "  </thead>\n",
              "  <tbody>\n",
              "    <tr>\n",
              "      <th>0</th>\n",
              "      <td>4673626</td>\n",
              "      <td>04/02/2006 01:00:00 PM</td>\n",
              "      <td>OTHER OFFENSE</td>\n",
              "      <td>RESIDENCE</td>\n",
              "      <td>False</td>\n",
              "      <td>False</td>\n",
              "    </tr>\n",
              "    <tr>\n",
              "      <th>1</th>\n",
              "      <td>4673627</td>\n",
              "      <td>02/26/2006 01:40:48 PM</td>\n",
              "      <td>NARCOTICS</td>\n",
              "      <td>SIDEWALK</td>\n",
              "      <td>True</td>\n",
              "      <td>False</td>\n",
              "    </tr>\n",
              "    <tr>\n",
              "      <th>2</th>\n",
              "      <td>4673628</td>\n",
              "      <td>01/08/2006 11:16:00 PM</td>\n",
              "      <td>ASSAULT</td>\n",
              "      <td>OTHER</td>\n",
              "      <td>False</td>\n",
              "      <td>False</td>\n",
              "    </tr>\n",
              "    <tr>\n",
              "      <th>3</th>\n",
              "      <td>4673629</td>\n",
              "      <td>04/05/2006 06:45:00 PM</td>\n",
              "      <td>BATTERY</td>\n",
              "      <td>RESIDENCE</td>\n",
              "      <td>False</td>\n",
              "      <td>False</td>\n",
              "    </tr>\n",
              "    <tr>\n",
              "      <th>4</th>\n",
              "      <td>4673630</td>\n",
              "      <td>02/17/2006 09:03:14 PM</td>\n",
              "      <td>NARCOTICS</td>\n",
              "      <td>ALLEY</td>\n",
              "      <td>True</td>\n",
              "      <td>False</td>\n",
              "    </tr>\n",
              "  </tbody>\n",
              "</table>\n",
              "</div>\n",
              "      <button class=\"colab-df-convert\" onclick=\"convertToInteractive('df-a275a686-971c-4bbc-94e1-8b3c311504db')\"\n",
              "              title=\"Convert this dataframe to an interactive table.\"\n",
              "              style=\"display:none;\">\n",
              "        \n",
              "  <svg xmlns=\"http://www.w3.org/2000/svg\" height=\"24px\"viewBox=\"0 0 24 24\"\n",
              "       width=\"24px\">\n",
              "    <path d=\"M0 0h24v24H0V0z\" fill=\"none\"/>\n",
              "    <path d=\"M18.56 5.44l.94 2.06.94-2.06 2.06-.94-2.06-.94-.94-2.06-.94 2.06-2.06.94zm-11 1L8.5 8.5l.94-2.06 2.06-.94-2.06-.94L8.5 2.5l-.94 2.06-2.06.94zm10 10l.94 2.06.94-2.06 2.06-.94-2.06-.94-.94-2.06-.94 2.06-2.06.94z\"/><path d=\"M17.41 7.96l-1.37-1.37c-.4-.4-.92-.59-1.43-.59-.52 0-1.04.2-1.43.59L10.3 9.45l-7.72 7.72c-.78.78-.78 2.05 0 2.83L4 21.41c.39.39.9.59 1.41.59.51 0 1.02-.2 1.41-.59l7.78-7.78 2.81-2.81c.8-.78.8-2.07 0-2.86zM5.41 20L4 18.59l7.72-7.72 1.47 1.35L5.41 20z\"/>\n",
              "  </svg>\n",
              "      </button>\n",
              "      \n",
              "  <style>\n",
              "    .colab-df-container {\n",
              "      display:flex;\n",
              "      flex-wrap:wrap;\n",
              "      gap: 12px;\n",
              "    }\n",
              "\n",
              "    .colab-df-convert {\n",
              "      background-color: #E8F0FE;\n",
              "      border: none;\n",
              "      border-radius: 50%;\n",
              "      cursor: pointer;\n",
              "      display: none;\n",
              "      fill: #1967D2;\n",
              "      height: 32px;\n",
              "      padding: 0 0 0 0;\n",
              "      width: 32px;\n",
              "    }\n",
              "\n",
              "    .colab-df-convert:hover {\n",
              "      background-color: #E2EBFA;\n",
              "      box-shadow: 0px 1px 2px rgba(60, 64, 67, 0.3), 0px 1px 3px 1px rgba(60, 64, 67, 0.15);\n",
              "      fill: #174EA6;\n",
              "    }\n",
              "\n",
              "    [theme=dark] .colab-df-convert {\n",
              "      background-color: #3B4455;\n",
              "      fill: #D2E3FC;\n",
              "    }\n",
              "\n",
              "    [theme=dark] .colab-df-convert:hover {\n",
              "      background-color: #434B5C;\n",
              "      box-shadow: 0px 1px 3px 1px rgba(0, 0, 0, 0.15);\n",
              "      filter: drop-shadow(0px 1px 2px rgba(0, 0, 0, 0.3));\n",
              "      fill: #FFFFFF;\n",
              "    }\n",
              "  </style>\n",
              "\n",
              "      <script>\n",
              "        const buttonEl =\n",
              "          document.querySelector('#df-a275a686-971c-4bbc-94e1-8b3c311504db button.colab-df-convert');\n",
              "        buttonEl.style.display =\n",
              "          google.colab.kernel.accessAllowed ? 'block' : 'none';\n",
              "\n",
              "        async function convertToInteractive(key) {\n",
              "          const element = document.querySelector('#df-a275a686-971c-4bbc-94e1-8b3c311504db');\n",
              "          const dataTable =\n",
              "            await google.colab.kernel.invokeFunction('convertToInteractive',\n",
              "                                                     [key], {});\n",
              "          if (!dataTable) return;\n",
              "\n",
              "          const docLinkHtml = 'Like what you see? Visit the ' +\n",
              "            '<a target=\"_blank\" href=https://colab.research.google.com/notebooks/data_table.ipynb>data table notebook</a>'\n",
              "            + ' to learn more about interactive tables.';\n",
              "          element.innerHTML = '';\n",
              "          dataTable['output_type'] = 'display_data';\n",
              "          await google.colab.output.renderOutput(dataTable, element);\n",
              "          const docLink = document.createElement('div');\n",
              "          docLink.innerHTML = docLinkHtml;\n",
              "          element.appendChild(docLink);\n",
              "        }\n",
              "      </script>\n",
              "    </div>\n",
              "  </div>\n",
              "  "
            ]
          },
          "metadata": {},
          "execution_count": 16
        }
      ],
      "source": [
        "dF.head()"
      ]
    },
    {
      "cell_type": "markdown",
      "metadata": {
        "id": "XgHSC6ysq5Rm"
      },
      "source": []
    },
    {
      "cell_type": "markdown",
      "metadata": {
        "id": "XA5yJkmeq7nv"
      },
      "source": [
        "#### **5. Drop Null Values in this new Dataset**"
      ]
    },
    {
      "cell_type": "code",
      "execution_count": 17,
      "metadata": {
        "id": "yvTHlmFirMQD",
        "colab": {
          "base_uri": "https://localhost:8080/"
        },
        "outputId": "14005005-06c5-471a-8d72-d41ecb3d7f44"
      },
      "outputs": [
        {
          "output_type": "execute_result",
          "data": {
            "text/plain": [
              "ID                         0\n",
              "Date                       0\n",
              "Primary Type               0\n",
              "Location Description    1974\n",
              "Arrest                     0\n",
              "Domestic                   0\n",
              "dtype: int64"
            ]
          },
          "metadata": {},
          "execution_count": 17
        }
      ],
      "source": [
        "dF.isnull().sum()"
      ]
    },
    {
      "cell_type": "code",
      "execution_count": 18,
      "metadata": {
        "id": "eTySJiAvrTul",
        "colab": {
          "base_uri": "https://localhost:8080/"
        },
        "outputId": "1dadd7bb-489b-488d-91da-2e044e2e56b9"
      },
      "outputs": [
        {
          "output_type": "stream",
          "name": "stdout",
          "text": [
            "<class 'pandas.core.frame.DataFrame'>\n",
            "Int64Index: 6017767 entries, 0 to 1456713\n",
            "Data columns (total 6 columns):\n",
            " #   Column                Dtype \n",
            "---  ------                ----- \n",
            " 0   ID                    int64 \n",
            " 1   Date                  object\n",
            " 2   Primary Type          object\n",
            " 3   Location Description  object\n",
            " 4   Arrest                bool  \n",
            " 5   Domestic              bool  \n",
            "dtypes: bool(2), int64(1), object(3)\n",
            "memory usage: 241.0+ MB\n"
          ]
        }
      ],
      "source": [
        "dF.info()"
      ]
    },
    {
      "cell_type": "markdown",
      "metadata": {
        "id": "z654duiP-4xL"
      },
      "source": [
        "##### **Let's Convert the Data type of this Date Column to Date-time**\n"
      ]
    },
    {
      "cell_type": "code",
      "execution_count": 19,
      "metadata": {
        "id": "zhaFF0Qf_LM8",
        "colab": {
          "base_uri": "https://localhost:8080/"
        },
        "outputId": "9890efa8-8f93-4765-8945-5c8940b36e3f"
      },
      "outputs": [
        {
          "output_type": "stream",
          "name": "stderr",
          "text": [
            "/usr/local/lib/python3.8/dist-packages/pandas/core/generic.py:5516: SettingWithCopyWarning: \n",
            "A value is trying to be set on a copy of a slice from a DataFrame.\n",
            "Try using .loc[row_indexer,col_indexer] = value instead\n",
            "\n",
            "See the caveats in the documentation: https://pandas.pydata.org/pandas-docs/stable/user_guide/indexing.html#returning-a-view-versus-a-copy\n",
            "  self[name] = value\n"
          ]
        }
      ],
      "source": [
        "dF.Date = pd.to_datetime(dF.Date,format = '%m/%d/%Y %I:%M:%S %p')"
      ]
    },
    {
      "cell_type": "code",
      "execution_count": 20,
      "metadata": {
        "id": "pV0gkd3TAFdF",
        "colab": {
          "base_uri": "https://localhost:8080/"
        },
        "outputId": "8da31136-3438-4006-fc41-158f6d7954c5"
      },
      "outputs": [
        {
          "output_type": "stream",
          "name": "stdout",
          "text": [
            "<class 'pandas.core.frame.DataFrame'>\n",
            "Int64Index: 6017767 entries, 0 to 1456713\n",
            "Data columns (total 6 columns):\n",
            " #   Column                Dtype         \n",
            "---  ------                -----         \n",
            " 0   ID                    int64         \n",
            " 1   Date                  datetime64[ns]\n",
            " 2   Primary Type          object        \n",
            " 3   Location Description  object        \n",
            " 4   Arrest                bool          \n",
            " 5   Domestic              bool          \n",
            "dtypes: bool(2), datetime64[ns](1), int64(1), object(2)\n",
            "memory usage: 241.0+ MB\n"
          ]
        }
      ],
      "source": [
        "dF.info()"
      ]
    },
    {
      "cell_type": "markdown",
      "metadata": {
        "id": "fchN0oo1CDxn"
      },
      "source": [
        "####  **6. Find The Top 10 Primary Crime Types**"
      ]
    },
    {
      "cell_type": "code",
      "execution_count": 21,
      "metadata": {
        "id": "AcZZFZAzCWz1",
        "colab": {
          "base_uri": "https://localhost:8080/"
        },
        "outputId": "4dec9241-3937-4c73-87d0-7ce4f0729fa9"
      },
      "outputs": [
        {
          "output_type": "execute_result",
          "data": {
            "text/plain": [
              "Index(['ID', 'Date', 'Primary Type', 'Location Description', 'Arrest',\n",
              "       'Domestic'],\n",
              "      dtype='object')"
            ]
          },
          "metadata": {},
          "execution_count": 21
        }
      ],
      "source": [
        "dF.columns"
      ]
    },
    {
      "cell_type": "code",
      "execution_count": 22,
      "metadata": {
        "id": "VZqC0gjsCt3W",
        "colab": {
          "base_uri": "https://localhost:8080/"
        },
        "outputId": "ca68677b-0f5d-4052-f329-9328457246e3"
      },
      "outputs": [
        {
          "output_type": "execute_result",
          "data": {
            "text/plain": [
              "THEFT                  1245111\n",
              "BATTERY                1079178\n",
              "CRIMINAL DAMAGE         702702\n",
              "NARCOTICS               674831\n",
              "BURGLARY                369056\n",
              "OTHER OFFENSE           368169\n",
              "ASSAULT                 360244\n",
              "MOTOR VEHICLE THEFT     271624\n",
              "ROBBERY                 229467\n",
              "DECEPTIVE PRACTICE      225180\n",
              "Name: Primary Type, dtype: int64"
            ]
          },
          "metadata": {},
          "execution_count": 22
        }
      ],
      "source": [
        "dF['Primary Type'].value_counts().head(10)"
      ]
    },
    {
      "cell_type": "markdown",
      "metadata": {
        "id": "UXcVh9mFDI_V"
      },
      "source": [
        "#### 7. How many Criminals Are Arrested Having Primary Crime type is Theft?"
      ]
    },
    {
      "cell_type": "code",
      "execution_count": 23,
      "metadata": {
        "id": "Os1axkOhDeCS",
        "colab": {
          "base_uri": "https://localhost:8080/"
        },
        "outputId": "03c9f9b5-d335-4f61-88c8-9c295d93983a"
      },
      "outputs": [
        {
          "output_type": "execute_result",
          "data": {
            "text/plain": [
              "False    1103799\n",
              "True      141312\n",
              "Name: Arrest, dtype: int64"
            ]
          },
          "metadata": {},
          "execution_count": 23
        }
      ],
      "source": [
        "dF[dF['Primary Type']=='THEFT']['Arrest'].value_counts()"
      ]
    },
    {
      "cell_type": "markdown",
      "metadata": {
        "id": "o80ChzaaEFlB"
      },
      "source": [
        "#### 8. Find The Top 10 Crime Location Descriptions"
      ]
    },
    {
      "cell_type": "code",
      "execution_count": 24,
      "metadata": {
        "id": "24OAy-HKDuMX",
        "colab": {
          "base_uri": "https://localhost:8080/"
        },
        "outputId": "d1874f97-cd4d-4c7a-dbde-757dbc72a5c3"
      },
      "outputs": [
        {
          "output_type": "execute_result",
          "data": {
            "text/plain": [
              "Index(['ID', 'Date', 'Primary Type', 'Location Description', 'Arrest',\n",
              "       'Domestic'],\n",
              "      dtype='object')"
            ]
          },
          "metadata": {},
          "execution_count": 24
        }
      ],
      "source": [
        "dF.columns"
      ]
    },
    {
      "cell_type": "code",
      "execution_count": 25,
      "metadata": {
        "id": "R_KI5FtcElkq",
        "colab": {
          "base_uri": "https://localhost:8080/"
        },
        "outputId": "0566e51d-78e1-43fa-bd9a-265f0ab6f547"
      },
      "outputs": [
        {
          "output_type": "execute_result",
          "data": {
            "text/plain": [
              "STREET                            1517724\n",
              "RESIDENCE                          991977\n",
              "SIDEWALK                           674793\n",
              "APARTMENT                          668298\n",
              "OTHER                              216154\n",
              "PARKING LOT/GARAGE(NON.RESID.)     166331\n",
              "ALLEY                              137094\n",
              "SCHOOL, PUBLIC, BUILDING           128852\n",
              "RESIDENCE-GARAGE                   119619\n",
              "VEHICLE NON-COMMERCIAL             107554\n",
              "Name: Location Description, dtype: int64"
            ]
          },
          "metadata": {},
          "execution_count": 25
        }
      ],
      "source": [
        "dF['Location Description'].value_counts().head(10)"
      ]
    },
    {
      "cell_type": "markdown",
      "metadata": {
        "id": "QleicsBiFAxv"
      },
      "source": [
        " #### 9. How many are Arrested Having Location type is STREET?"
      ]
    },
    {
      "cell_type": "code",
      "execution_count": 26,
      "metadata": {
        "id": "TI3KEj1uFVEn",
        "colab": {
          "base_uri": "https://localhost:8080/"
        },
        "outputId": "49b73d23-3bb4-4e8c-c762-f6d3aa71386d"
      },
      "outputs": [
        {
          "output_type": "execute_result",
          "data": {
            "text/plain": [
              "False    1093718\n",
              "True      424006\n",
              "Name: Arrest, dtype: int64"
            ]
          },
          "metadata": {},
          "execution_count": 26
        }
      ],
      "source": [
        "dF[dF['Location Description']=='STREET']['Arrest'].value_counts()"
      ]
    },
    {
      "cell_type": "markdown",
      "metadata": {
        "id": "Y_yjPBYVGO5y"
      },
      "source": [
        "#### Let's Set Our Date Columns As the Index of Pandas DataFrame for Visualization"
      ]
    },
    {
      "cell_type": "code",
      "execution_count": 27,
      "metadata": {
        "id": "O27t2CgBGi_e"
      },
      "outputs": [],
      "source": [
        "dF.index = pd.DatetimeIndex(dF.Date)"
      ]
    },
    {
      "cell_type": "code",
      "execution_count": 28,
      "metadata": {
        "id": "ndyi08W7HNyS",
        "colab": {
          "base_uri": "https://localhost:8080/",
          "height": 455
        },
        "outputId": "e204289b-3db2-418f-aed8-4cb9df79487f"
      },
      "outputs": [
        {
          "output_type": "execute_result",
          "data": {
            "text/plain": [
              "                           ID                Date     Primary Type  \\\n",
              "Date                                                                 \n",
              "2006-04-02 13:00:00   4673626 2006-04-02 13:00:00    OTHER OFFENSE   \n",
              "2006-02-26 13:40:48   4673627 2006-02-26 13:40:48        NARCOTICS   \n",
              "2006-01-08 23:16:00   4673628 2006-01-08 23:16:00          ASSAULT   \n",
              "2006-04-05 18:45:00   4673629 2006-04-05 18:45:00          BATTERY   \n",
              "2006-02-17 21:03:14   4673630 2006-02-17 21:03:14        NARCOTICS   \n",
              "...                       ...                 ...              ...   \n",
              "2016-05-03 23:33:00  10508679 2016-05-03 23:33:00          BATTERY   \n",
              "2016-05-03 23:30:00  10508680 2016-05-03 23:30:00  CRIMINAL DAMAGE   \n",
              "2016-05-03 00:15:00  10508681 2016-05-03 00:15:00          BATTERY   \n",
              "2016-05-03 21:07:00  10508690 2016-05-03 21:07:00          BATTERY   \n",
              "2016-05-03 23:38:00  10508692 2016-05-03 23:38:00    OTHER OFFENSE   \n",
              "\n",
              "                               Location Description  Arrest  Domestic  \n",
              "Date                                                                   \n",
              "2006-04-02 13:00:00                       RESIDENCE   False     False  \n",
              "2006-02-26 13:40:48                        SIDEWALK    True     False  \n",
              "2006-01-08 23:16:00                           OTHER   False     False  \n",
              "2006-04-05 18:45:00                       RESIDENCE   False     False  \n",
              "2006-02-17 21:03:14                           ALLEY    True     False  \n",
              "...                                             ...     ...       ...  \n",
              "2016-05-03 23:33:00                       APARTMENT    True      True  \n",
              "2016-05-03 23:30:00                       APARTMENT    True      True  \n",
              "2016-05-03 00:15:00                        SIDEWALK   False     False  \n",
              "2016-05-03 21:07:00                        SIDEWALK   False      True  \n",
              "2016-05-03 23:38:00  PARKING LOT/GARAGE(NON.RESID.)    True     False  \n",
              "\n",
              "[6017767 rows x 6 columns]"
            ],
            "text/html": [
              "\n",
              "  <div id=\"df-5986e1f7-6166-473f-9b6c-bbf238381b70\">\n",
              "    <div class=\"colab-df-container\">\n",
              "      <div>\n",
              "<style scoped>\n",
              "    .dataframe tbody tr th:only-of-type {\n",
              "        vertical-align: middle;\n",
              "    }\n",
              "\n",
              "    .dataframe tbody tr th {\n",
              "        vertical-align: top;\n",
              "    }\n",
              "\n",
              "    .dataframe thead th {\n",
              "        text-align: right;\n",
              "    }\n",
              "</style>\n",
              "<table border=\"1\" class=\"dataframe\">\n",
              "  <thead>\n",
              "    <tr style=\"text-align: right;\">\n",
              "      <th></th>\n",
              "      <th>ID</th>\n",
              "      <th>Date</th>\n",
              "      <th>Primary Type</th>\n",
              "      <th>Location Description</th>\n",
              "      <th>Arrest</th>\n",
              "      <th>Domestic</th>\n",
              "    </tr>\n",
              "    <tr>\n",
              "      <th>Date</th>\n",
              "      <th></th>\n",
              "      <th></th>\n",
              "      <th></th>\n",
              "      <th></th>\n",
              "      <th></th>\n",
              "      <th></th>\n",
              "    </tr>\n",
              "  </thead>\n",
              "  <tbody>\n",
              "    <tr>\n",
              "      <th>2006-04-02 13:00:00</th>\n",
              "      <td>4673626</td>\n",
              "      <td>2006-04-02 13:00:00</td>\n",
              "      <td>OTHER OFFENSE</td>\n",
              "      <td>RESIDENCE</td>\n",
              "      <td>False</td>\n",
              "      <td>False</td>\n",
              "    </tr>\n",
              "    <tr>\n",
              "      <th>2006-02-26 13:40:48</th>\n",
              "      <td>4673627</td>\n",
              "      <td>2006-02-26 13:40:48</td>\n",
              "      <td>NARCOTICS</td>\n",
              "      <td>SIDEWALK</td>\n",
              "      <td>True</td>\n",
              "      <td>False</td>\n",
              "    </tr>\n",
              "    <tr>\n",
              "      <th>2006-01-08 23:16:00</th>\n",
              "      <td>4673628</td>\n",
              "      <td>2006-01-08 23:16:00</td>\n",
              "      <td>ASSAULT</td>\n",
              "      <td>OTHER</td>\n",
              "      <td>False</td>\n",
              "      <td>False</td>\n",
              "    </tr>\n",
              "    <tr>\n",
              "      <th>2006-04-05 18:45:00</th>\n",
              "      <td>4673629</td>\n",
              "      <td>2006-04-05 18:45:00</td>\n",
              "      <td>BATTERY</td>\n",
              "      <td>RESIDENCE</td>\n",
              "      <td>False</td>\n",
              "      <td>False</td>\n",
              "    </tr>\n",
              "    <tr>\n",
              "      <th>2006-02-17 21:03:14</th>\n",
              "      <td>4673630</td>\n",
              "      <td>2006-02-17 21:03:14</td>\n",
              "      <td>NARCOTICS</td>\n",
              "      <td>ALLEY</td>\n",
              "      <td>True</td>\n",
              "      <td>False</td>\n",
              "    </tr>\n",
              "    <tr>\n",
              "      <th>...</th>\n",
              "      <td>...</td>\n",
              "      <td>...</td>\n",
              "      <td>...</td>\n",
              "      <td>...</td>\n",
              "      <td>...</td>\n",
              "      <td>...</td>\n",
              "    </tr>\n",
              "    <tr>\n",
              "      <th>2016-05-03 23:33:00</th>\n",
              "      <td>10508679</td>\n",
              "      <td>2016-05-03 23:33:00</td>\n",
              "      <td>BATTERY</td>\n",
              "      <td>APARTMENT</td>\n",
              "      <td>True</td>\n",
              "      <td>True</td>\n",
              "    </tr>\n",
              "    <tr>\n",
              "      <th>2016-05-03 23:30:00</th>\n",
              "      <td>10508680</td>\n",
              "      <td>2016-05-03 23:30:00</td>\n",
              "      <td>CRIMINAL DAMAGE</td>\n",
              "      <td>APARTMENT</td>\n",
              "      <td>True</td>\n",
              "      <td>True</td>\n",
              "    </tr>\n",
              "    <tr>\n",
              "      <th>2016-05-03 00:15:00</th>\n",
              "      <td>10508681</td>\n",
              "      <td>2016-05-03 00:15:00</td>\n",
              "      <td>BATTERY</td>\n",
              "      <td>SIDEWALK</td>\n",
              "      <td>False</td>\n",
              "      <td>False</td>\n",
              "    </tr>\n",
              "    <tr>\n",
              "      <th>2016-05-03 21:07:00</th>\n",
              "      <td>10508690</td>\n",
              "      <td>2016-05-03 21:07:00</td>\n",
              "      <td>BATTERY</td>\n",
              "      <td>SIDEWALK</td>\n",
              "      <td>False</td>\n",
              "      <td>True</td>\n",
              "    </tr>\n",
              "    <tr>\n",
              "      <th>2016-05-03 23:38:00</th>\n",
              "      <td>10508692</td>\n",
              "      <td>2016-05-03 23:38:00</td>\n",
              "      <td>OTHER OFFENSE</td>\n",
              "      <td>PARKING LOT/GARAGE(NON.RESID.)</td>\n",
              "      <td>True</td>\n",
              "      <td>False</td>\n",
              "    </tr>\n",
              "  </tbody>\n",
              "</table>\n",
              "<p>6017767 rows × 6 columns</p>\n",
              "</div>\n",
              "      <button class=\"colab-df-convert\" onclick=\"convertToInteractive('df-5986e1f7-6166-473f-9b6c-bbf238381b70')\"\n",
              "              title=\"Convert this dataframe to an interactive table.\"\n",
              "              style=\"display:none;\">\n",
              "        \n",
              "  <svg xmlns=\"http://www.w3.org/2000/svg\" height=\"24px\"viewBox=\"0 0 24 24\"\n",
              "       width=\"24px\">\n",
              "    <path d=\"M0 0h24v24H0V0z\" fill=\"none\"/>\n",
              "    <path d=\"M18.56 5.44l.94 2.06.94-2.06 2.06-.94-2.06-.94-.94-2.06-.94 2.06-2.06.94zm-11 1L8.5 8.5l.94-2.06 2.06-.94-2.06-.94L8.5 2.5l-.94 2.06-2.06.94zm10 10l.94 2.06.94-2.06 2.06-.94-2.06-.94-.94-2.06-.94 2.06-2.06.94z\"/><path d=\"M17.41 7.96l-1.37-1.37c-.4-.4-.92-.59-1.43-.59-.52 0-1.04.2-1.43.59L10.3 9.45l-7.72 7.72c-.78.78-.78 2.05 0 2.83L4 21.41c.39.39.9.59 1.41.59.51 0 1.02-.2 1.41-.59l7.78-7.78 2.81-2.81c.8-.78.8-2.07 0-2.86zM5.41 20L4 18.59l7.72-7.72 1.47 1.35L5.41 20z\"/>\n",
              "  </svg>\n",
              "      </button>\n",
              "      \n",
              "  <style>\n",
              "    .colab-df-container {\n",
              "      display:flex;\n",
              "      flex-wrap:wrap;\n",
              "      gap: 12px;\n",
              "    }\n",
              "\n",
              "    .colab-df-convert {\n",
              "      background-color: #E8F0FE;\n",
              "      border: none;\n",
              "      border-radius: 50%;\n",
              "      cursor: pointer;\n",
              "      display: none;\n",
              "      fill: #1967D2;\n",
              "      height: 32px;\n",
              "      padding: 0 0 0 0;\n",
              "      width: 32px;\n",
              "    }\n",
              "\n",
              "    .colab-df-convert:hover {\n",
              "      background-color: #E2EBFA;\n",
              "      box-shadow: 0px 1px 2px rgba(60, 64, 67, 0.3), 0px 1px 3px 1px rgba(60, 64, 67, 0.15);\n",
              "      fill: #174EA6;\n",
              "    }\n",
              "\n",
              "    [theme=dark] .colab-df-convert {\n",
              "      background-color: #3B4455;\n",
              "      fill: #D2E3FC;\n",
              "    }\n",
              "\n",
              "    [theme=dark] .colab-df-convert:hover {\n",
              "      background-color: #434B5C;\n",
              "      box-shadow: 0px 1px 3px 1px rgba(0, 0, 0, 0.15);\n",
              "      filter: drop-shadow(0px 1px 2px rgba(0, 0, 0, 0.3));\n",
              "      fill: #FFFFFF;\n",
              "    }\n",
              "  </style>\n",
              "\n",
              "      <script>\n",
              "        const buttonEl =\n",
              "          document.querySelector('#df-5986e1f7-6166-473f-9b6c-bbf238381b70 button.colab-df-convert');\n",
              "        buttonEl.style.display =\n",
              "          google.colab.kernel.accessAllowed ? 'block' : 'none';\n",
              "\n",
              "        async function convertToInteractive(key) {\n",
              "          const element = document.querySelector('#df-5986e1f7-6166-473f-9b6c-bbf238381b70');\n",
              "          const dataTable =\n",
              "            await google.colab.kernel.invokeFunction('convertToInteractive',\n",
              "                                                     [key], {});\n",
              "          if (!dataTable) return;\n",
              "\n",
              "          const docLinkHtml = 'Like what you see? Visit the ' +\n",
              "            '<a target=\"_blank\" href=https://colab.research.google.com/notebooks/data_table.ipynb>data table notebook</a>'\n",
              "            + ' to learn more about interactive tables.';\n",
              "          element.innerHTML = '';\n",
              "          dataTable['output_type'] = 'display_data';\n",
              "          await google.colab.output.renderOutput(dataTable, element);\n",
              "          const docLink = document.createElement('div');\n",
              "          docLink.innerHTML = docLinkHtml;\n",
              "          element.appendChild(docLink);\n",
              "        }\n",
              "      </script>\n",
              "    </div>\n",
              "  </div>\n",
              "  "
            ]
          },
          "metadata": {},
          "execution_count": 28
        }
      ],
      "source": [
        "dF"
      ]
    },
    {
      "cell_type": "markdown",
      "metadata": {
        "id": "wfb8aIgLHmuZ"
      },
      "source": [
        "#### Now Our Date Column Has Become The Index of Our DataFrame"
      ]
    },
    {
      "cell_type": "markdown",
      "metadata": {
        "id": "gZDmitISIVMY"
      },
      "source": [
        "##### We are interested in YEAR-WISE Distribution"
      ]
    },
    {
      "cell_type": "code",
      "execution_count": 29,
      "metadata": {
        "id": "wDu_EQZ8Hn3u",
        "colab": {
          "base_uri": "https://localhost:8080/",
          "height": 312
        },
        "outputId": "bb3c38ab-a7d2-4e85-cdb0-b9c4f6d223d6"
      },
      "outputs": [
        {
          "output_type": "execute_result",
          "data": {
            "text/plain": [
              "Text(0, 0.5, 'Number of Crimes')"
            ]
          },
          "metadata": {},
          "execution_count": 29
        },
        {
          "output_type": "display_data",
          "data": {
            "text/plain": [
              "<Figure size 432x288 with 1 Axes>"
            ],
            "image/png": "[encoded data removed]"
          },
          "metadata": {
            "needs_background": "light"
          }
        }
      ],
      "source": [
        "plt.plot(dF.resample('Y').size())\n",
        "plt.title(\"Crime Count Per Year\")\n",
        "plt.xlabel(\"Years\")\n",
        "plt.ylabel(\"Number of Crimes\")"
      ]
    },
    {
      "cell_type": "markdown",
      "metadata": {
        "id": "UljunXZ2KTF1"
      },
      "source": [
        "#### We are interested in MONTH-WISE Distribution"
      ]
    },
    {
      "cell_type": "code",
      "execution_count": 30,
      "metadata": {
        "id": "2MzM48jIIl_S",
        "colab": {
          "base_uri": "https://localhost:8080/",
          "height": 312
        },
        "outputId": "95f24e50-26a2-4ab5-89be-3a6e78e9ad10"
      },
      "outputs": [
        {
          "output_type": "execute_result",
          "data": {
            "text/plain": [
              "Text(0, 0.5, 'Number of Crimes')"
            ]
          },
          "metadata": {},
          "execution_count": 30
        },
        {
          "output_type": "display_data",
          "data": {
            "text/plain": [
              "<Figure size 432x288 with 1 Axes>"
            ],
            "image/png": "[encoded data removed]"
          },
          "metadata": {
            "needs_background": "light"
          }
        }
      ],
      "source": [
        "plt.plot(dF.resample('M').size())\n",
        "plt.title(\"Crime Count Per Year\")\n",
        "plt.xlabel(\"Years\")\n",
        "plt.ylabel(\"Number of Crimes\")"
      ]
    },
    {
      "cell_type": "markdown",
      "metadata": {
        "id": "XY-lfH1qKsGD"
      },
      "source": [
        "#### **Let's perform Forecasting by first preparing the Data**"
      ]
    },
    {
      "cell_type": "code",
      "execution_count": 31,
      "metadata": {
        "id": "vR8K28phKl_U",
        "colab": {
          "base_uri": "https://localhost:8080/",
          "height": 424
        },
        "outputId": "e2d3c92b-67e0-4016-bc05-3969f320d99c"
      },
      "outputs": [
        {
          "output_type": "execute_result",
          "data": {
            "text/plain": [
              "          Date  Crime Count\n",
              "0   2005-01-31        33983\n",
              "1   2005-02-28        32042\n",
              "2   2005-03-31        36970\n",
              "3   2005-04-30        38963\n",
              "4   2005-05-31        40572\n",
              "..         ...          ...\n",
              "140 2016-09-30        23235\n",
              "141 2016-10-31        23314\n",
              "142 2016-11-30        21140\n",
              "143 2016-12-31        19580\n",
              "144 2017-01-31        11357\n",
              "\n",
              "[145 rows x 2 columns]"
            ],
            "text/html": [
              "\n",
              "  <div id=\"df-2a18d805-c97f-4830-8049-6512a6005b81\">\n",
              "    <div class=\"colab-df-container\">\n",
              "      <div>\n",
              "<style scoped>\n",
              "    .dataframe tbody tr th:only-of-type {\n",
              "        vertical-align: middle;\n",
              "    }\n",
              "\n",
              "    .dataframe tbody tr th {\n",
              "        vertical-align: top;\n",
              "    }\n",
              "\n",
              "    .dataframe thead th {\n",
              "        text-align: right;\n",
              "    }\n",
              "</style>\n",
              "<table border=\"1\" class=\"dataframe\">\n",
              "  <thead>\n",
              "    <tr style=\"text-align: right;\">\n",
              "      <th></th>\n",
              "      <th>Date</th>\n",
              "      <th>Crime Count</th>\n",
              "    </tr>\n",
              "  </thead>\n",
              "  <tbody>\n",
              "    <tr>\n",
              "      <th>0</th>\n",
              "      <td>2005-01-31</td>\n",
              "      <td>33983</td>\n",
              "    </tr>\n",
              "    <tr>\n",
              "      <th>1</th>\n",
              "      <td>2005-02-28</td>\n",
              "      <td>32042</td>\n",
              "    </tr>\n",
              "    <tr>\n",
              "      <th>2</th>\n",
              "      <td>2005-03-31</td>\n",
              "      <td>36970</td>\n",
              "    </tr>\n",
              "    <tr>\n",
              "      <th>3</th>\n",
              "      <td>2005-04-30</td>\n",
              "      <td>38963</td>\n",
              "    </tr>\n",
              "    <tr>\n",
              "      <th>4</th>\n",
              "      <td>2005-05-31</td>\n",
              "      <td>40572</td>\n",
              "    </tr>\n",
              "    <tr>\n",
              "      <th>...</th>\n",
              "      <td>...</td>\n",
              "      <td>...</td>\n",
              "    </tr>\n",
              "    <tr>\n",
              "      <th>140</th>\n",
              "      <td>2016-09-30</td>\n",
              "      <td>23235</td>\n",
              "    </tr>\n",
              "    <tr>\n",
              "      <th>141</th>\n",
              "      <td>2016-10-31</td>\n",
              "      <td>23314</td>\n",
              "    </tr>\n",
              "    <tr>\n",
              "      <th>142</th>\n",
              "      <td>2016-11-30</td>\n",
              "      <td>21140</td>\n",
              "    </tr>\n",
              "    <tr>\n",
              "      <th>143</th>\n",
              "      <td>2016-12-31</td>\n",
              "      <td>19580</td>\n",
              "    </tr>\n",
              "    <tr>\n",
              "      <th>144</th>\n",
              "      <td>2017-01-31</td>\n",
              "      <td>11357</td>\n",
              "    </tr>\n",
              "  </tbody>\n",
              "</table>\n",
              "<p>145 rows × 2 columns</p>\n",
              "</div>\n",
              "      <button class=\"colab-df-convert\" onclick=\"convertToInteractive('df-2a18d805-c97f-4830-8049-6512a6005b81')\"\n",
              "              title=\"Convert this dataframe to an interactive table.\"\n",
              "              style=\"display:none;\">\n",
              "        \n",
              "  <svg xmlns=\"http://www.w3.org/2000/svg\" height=\"24px\"viewBox=\"0 0 24 24\"\n",
              "       width=\"24px\">\n",
              "    <path d=\"M0 0h24v24H0V0z\" fill=\"none\"/>\n",
              "    <path d=\"M18.56 5.44l.94 2.06.94-2.06 2.06-.94-2.06-.94-.94-2.06-.94 2.06-2.06.94zm-11 1L8.5 8.5l.94-2.06 2.06-.94-2.06-.94L8.5 2.5l-.94 2.06-2.06.94zm10 10l.94 2.06.94-2.06 2.06-.94-2.06-.94-.94-2.06-.94 2.06-2.06.94z\"/><path d=\"M17.41 7.96l-1.37-1.37c-.4-.4-.92-.59-1.43-.59-.52 0-1.04.2-1.43.59L10.3 9.45l-7.72 7.72c-.78.78-.78 2.05 0 2.83L4 21.41c.39.39.9.59 1.41.59.51 0 1.02-.2 1.41-.59l7.78-7.78 2.81-2.81c.8-.78.8-2.07 0-2.86zM5.41 20L4 18.59l7.72-7.72 1.47 1.35L5.41 20z\"/>\n",
              "  </svg>\n",
              "      </button>\n",
              "      \n",
              "  <style>\n",
              "    .colab-df-container {\n",
              "      display:flex;\n",
              "      flex-wrap:wrap;\n",
              "      gap: 12px;\n",
              "    }\n",
              "\n",
              "    .colab-df-convert {\n",
              "      background-color: #E8F0FE;\n",
              "      border: none;\n",
              "      border-radius: 50%;\n",
              "      cursor: pointer;\n",
              "      display: none;\n",
              "      fill: #1967D2;\n",
              "      height: 32px;\n",
              "      padding: 0 0 0 0;\n",
              "      width: 32px;\n",
              "    }\n",
              "\n",
              "    .colab-df-convert:hover {\n",
              "      background-color: #E2EBFA;\n",
              "      box-shadow: 0px 1px 2px rgba(60, 64, 67, 0.3), 0px 1px 3px 1px rgba(60, 64, 67, 0.15);\n",
              "      fill: #174EA6;\n",
              "    }\n",
              "\n",
              "    [theme=dark] .colab-df-convert {\n",
              "      background-color: #3B4455;\n",
              "      fill: #D2E3FC;\n",
              "    }\n",
              "\n",
              "    [theme=dark] .colab-df-convert:hover {\n",
              "      background-color: #434B5C;\n",
              "      box-shadow: 0px 1px 3px 1px rgba(0, 0, 0, 0.15);\n",
              "      filter: drop-shadow(0px 1px 2px rgba(0, 0, 0, 0.3));\n",
              "      fill: #FFFFFF;\n",
              "    }\n",
              "  </style>\n",
              "\n",
              "      <script>\n",
              "        const buttonEl =\n",
              "          document.querySelector('#df-2a18d805-c97f-4830-8049-6512a6005b81 button.colab-df-convert');\n",
              "        buttonEl.style.display =\n",
              "          google.colab.kernel.accessAllowed ? 'block' : 'none';\n",
              "\n",
              "        async function convertToInteractive(key) {\n",
              "          const element = document.querySelector('#df-2a18d805-c97f-4830-8049-6512a6005b81');\n",
              "          const dataTable =\n",
              "            await google.colab.kernel.invokeFunction('convertToInteractive',\n",
              "                                                     [key], {});\n",
              "          if (!dataTable) return;\n",
              "\n",
              "          const docLinkHtml = 'Like what you see? Visit the ' +\n",
              "            '<a target=\"_blank\" href=https://colab.research.google.com/notebooks/data_table.ipynb>data table notebook</a>'\n",
              "            + ' to learn more about interactive tables.';\n",
              "          element.innerHTML = '';\n",
              "          dataTable['output_type'] = 'display_data';\n",
              "          await google.colab.output.renderOutput(dataTable, element);\n",
              "          const docLink = document.createElement('div');\n",
              "          docLink.innerHTML = docLinkHtml;\n",
              "          element.appendChild(docLink);\n",
              "        }\n",
              "      </script>\n",
              "    </div>\n",
              "  </div>\n",
              "  "
            ]
          },
          "metadata": {},
          "execution_count": 31
        }
      ],
      "source": [
        "dF_prophet = pd.DataFrame(dF.resample('M').size().reset_index())\n",
        "dF_prophet.columns=['Date','Crime Count']\n",
        "dF_prophet"
      ]
    },
    {
      "cell_type": "markdown",
      "metadata": {
        "id": "GCa1SCz_MK_5"
      },
      "source": [
        "#### Let's Rename The Column.Take note that input to FacebookProphet is always ds and y(It must be numerical and must represent the measurements to Forecast)"
      ]
    },
    {
      "cell_type": "code",
      "execution_count": 32,
      "metadata": {
        "id": "gfOedJLFMilj"
      },
      "outputs": [],
      "source": [
        "dF_prophet=dF_prophet.rename(columns={'Date':'ds','Crime Count':'y'})\n"
      ]
    },
    {
      "cell_type": "code",
      "execution_count": 33,
      "metadata": {
        "id": "-Rt3uDCkR5jI",
        "colab": {
          "base_uri": "https://localhost:8080/",
          "height": 424
        },
        "outputId": "1505fb86-46d2-4b62-f619-da0b5996a2af"
      },
      "outputs": [
        {
          "output_type": "execute_result",
          "data": {
            "text/plain": [
              "            ds      y\n",
              "0   2005-01-31  33983\n",
              "1   2005-02-28  32042\n",
              "2   2005-03-31  36970\n",
              "3   2005-04-30  38963\n",
              "4   2005-05-31  40572\n",
              "..         ...    ...\n",
              "140 2016-09-30  23235\n",
              "141 2016-10-31  23314\n",
              "142 2016-11-30  21140\n",
              "143 2016-12-31  19580\n",
              "144 2017-01-31  11357\n",
              "\n",
              "[145 rows x 2 columns]"
            ],
            "text/html": [
              "\n",
              "  <div id=\"df-ad8e0379-c6e4-43d4-942e-3378d1db08b3\">\n",
              "    <div class=\"colab-df-container\">\n",
              "      <div>\n",
              "<style scoped>\n",
              "    .dataframe tbody tr th:only-of-type {\n",
              "        vertical-align: middle;\n",
              "    }\n",
              "\n",
              "    .dataframe tbody tr th {\n",
              "        vertical-align: top;\n",
              "    }\n",
              "\n",
              "    .dataframe thead th {\n",
              "        text-align: right;\n",
              "    }\n",
              "</style>\n",
              "<table border=\"1\" class=\"dataframe\">\n",
              "  <thead>\n",
              "    <tr style=\"text-align: right;\">\n",
              "      <th></th>\n",
              "      <th>ds</th>\n",
              "      <th>y</th>\n",
              "    </tr>\n",
              "  </thead>\n",
              "  <tbody>\n",
              "    <tr>\n",
              "      <th>0</th>\n",
              "      <td>2005-01-31</td>\n",
              "      <td>33983</td>\n",
              "    </tr>\n",
              "    <tr>\n",
              "      <th>1</th>\n",
              "      <td>2005-02-28</td>\n",
              "      <td>32042</td>\n",
              "    </tr>\n",
              "    <tr>\n",
              "      <th>2</th>\n",
              "      <td>2005-03-31</td>\n",
              "      <td>36970</td>\n",
              "    </tr>\n",
              "    <tr>\n",
              "      <th>3</th>\n",
              "      <td>2005-04-30</td>\n",
              "      <td>38963</td>\n",
              "    </tr>\n",
              "    <tr>\n",
              "      <th>4</th>\n",
              "      <td>2005-05-31</td>\n",
              "      <td>40572</td>\n",
              "    </tr>\n",
              "    <tr>\n",
              "      <th>...</th>\n",
              "      <td>...</td>\n",
              "      <td>...</td>\n",
              "    </tr>\n",
              "    <tr>\n",
              "      <th>140</th>\n",
              "      <td>2016-09-30</td>\n",
              "      <td>23235</td>\n",
              "    </tr>\n",
              "    <tr>\n",
              "      <th>141</th>\n",
              "      <td>2016-10-31</td>\n",
              "      <td>23314</td>\n",
              "    </tr>\n",
              "    <tr>\n",
              "      <th>142</th>\n",
              "      <td>2016-11-30</td>\n",
              "      <td>21140</td>\n",
              "    </tr>\n",
              "    <tr>\n",
              "      <th>143</th>\n",
              "      <td>2016-12-31</td>\n",
              "      <td>19580</td>\n",
              "    </tr>\n",
              "    <tr>\n",
              "      <th>144</th>\n",
              "      <td>2017-01-31</td>\n",
              "      <td>11357</td>\n",
              "    </tr>\n",
              "  </tbody>\n",
              "</table>\n",
              "<p>145 rows × 2 columns</p>\n",
              "</div>\n",
              "      <button class=\"colab-df-convert\" onclick=\"convertToInteractive('df-ad8e0379-c6e4-43d4-942e-3378d1db08b3')\"\n",
              "              title=\"Convert this dataframe to an interactive table.\"\n",
              "              style=\"display:none;\">\n",
              "        \n",
              "  <svg xmlns=\"http://www.w3.org/2000/svg\" height=\"24px\"viewBox=\"0 0 24 24\"\n",
              "       width=\"24px\">\n",
              "    <path d=\"M0 0h24v24H0V0z\" fill=\"none\"/>\n",
              "    <path d=\"M18.56 5.44l.94 2.06.94-2.06 2.06-.94-2.06-.94-.94-2.06-.94 2.06-2.06.94zm-11 1L8.5 8.5l.94-2.06 2.06-.94-2.06-.94L8.5 2.5l-.94 2.06-2.06.94zm10 10l.94 2.06.94-2.06 2.06-.94-2.06-.94-.94-2.06-.94 2.06-2.06.94z\"/><path d=\"M17.41 7.96l-1.37-1.37c-.4-.4-.92-.59-1.43-.59-.52 0-1.04.2-1.43.59L10.3 9.45l-7.72 7.72c-.78.78-.78 2.05 0 2.83L4 21.41c.39.39.9.59 1.41.59.51 0 1.02-.2 1.41-.59l7.78-7.78 2.81-2.81c.8-.78.8-2.07 0-2.86zM5.41 20L4 18.59l7.72-7.72 1.47 1.35L5.41 20z\"/>\n",
              "  </svg>\n",
              "      </button>\n",
              "      \n",
              "  <style>\n",
              "    .colab-df-container {\n",
              "      display:flex;\n",
              "      flex-wrap:wrap;\n",
              "      gap: 12px;\n",
              "    }\n",
              "\n",
              "    .colab-df-convert {\n",
              "      background-color: #E8F0FE;\n",
              "      border: none;\n",
              "      border-radius: 50%;\n",
              "      cursor: pointer;\n",
              "      display: none;\n",
              "      fill: #1967D2;\n",
              "      height: 32px;\n",
              "      padding: 0 0 0 0;\n",
              "      width: 32px;\n",
              "    }\n",
              "\n",
              "    .colab-df-convert:hover {\n",
              "      background-color: #E2EBFA;\n",
              "      box-shadow: 0px 1px 2px rgba(60, 64, 67, 0.3), 0px 1px 3px 1px rgba(60, 64, 67, 0.15);\n",
              "      fill: #174EA6;\n",
              "    }\n",
              "\n",
              "    [theme=dark] .colab-df-convert {\n",
              "      background-color: #3B4455;\n",
              "      fill: #D2E3FC;\n",
              "    }\n",
              "\n",
              "    [theme=dark] .colab-df-convert:hover {\n",
              "      background-color: #434B5C;\n",
              "      box-shadow: 0px 1px 3px 1px rgba(0, 0, 0, 0.15);\n",
              "      filter: drop-shadow(0px 1px 2px rgba(0, 0, 0, 0.3));\n",
              "      fill: #FFFFFF;\n",
              "    }\n",
              "  </style>\n",
              "\n",
              "      <script>\n",
              "        const buttonEl =\n",
              "          document.querySelector('#df-ad8e0379-c6e4-43d4-942e-3378d1db08b3 button.colab-df-convert');\n",
              "        buttonEl.style.display =\n",
              "          google.colab.kernel.accessAllowed ? 'block' : 'none';\n",
              "\n",
              "        async function convertToInteractive(key) {\n",
              "          const element = document.querySelector('#df-ad8e0379-c6e4-43d4-942e-3378d1db08b3');\n",
              "          const dataTable =\n",
              "            await google.colab.kernel.invokeFunction('convertToInteractive',\n",
              "                                                     [key], {});\n",
              "          if (!dataTable) return;\n",
              "\n",
              "          const docLinkHtml = 'Like what you see? Visit the ' +\n",
              "            '<a target=\"_blank\" href=https://colab.research.google.com/notebooks/data_table.ipynb>data table notebook</a>'\n",
              "            + ' to learn more about interactive tables.';\n",
              "          element.innerHTML = '';\n",
              "          dataTable['output_type'] = 'display_data';\n",
              "          await google.colab.output.renderOutput(dataTable, element);\n",
              "          const docLink = document.createElement('div');\n",
              "          docLink.innerHTML = docLinkHtml;\n",
              "          element.appendChild(docLink);\n",
              "        }\n",
              "      </script>\n",
              "    </div>\n",
              "  </div>\n",
              "  "
            ]
          },
          "metadata": {},
          "execution_count": 33
        }
      ],
      "source": [
        "dF_prophet"
      ]
    },
    {
      "cell_type": "markdown",
      "metadata": {
        "id": "LES5nlFmODDe"
      },
      "source": [
        "#### Let's Train Our Model For Further Forecasting"
      ]
    },
    {
      "cell_type": "code",
      "execution_count": 34,
      "metadata": {
        "id": "5-hq8GObOPa8"
      },
      "outputs": [],
      "source": [
        "C = Prophet()\n"
      ]
    },
    {
      "cell_type": "code",
      "execution_count": 35,
      "metadata": {
        "id": "Mzkyo6_KOpDs",
        "colab": {
          "base_uri": "https://localhost:8080/"
        },
        "outputId": "53aeb78e-95e5-4e5d-a7c6-c29942e2d757"
      },
      "outputs": [
        {
          "output_type": "stream",
          "name": "stderr",
          "text": [
            "INFO:fbprophet:Disabling weekly seasonality. Run prophet with weekly_seasonality=True to override this.\n",
            "INFO:fbprophet:Disabling daily seasonality. Run prophet with daily_seasonality=True to override this.\n"
          ]
        },
        {
          "output_type": "execute_result",
          "data": {
            "text/plain": [
              "<fbprophet.forecaster.Prophet at 0x7fbc3b6ec430>"
            ]
          },
          "metadata": {},
          "execution_count": 35
        }
      ],
      "source": [
        "C.fit(dF_prophet)"
      ]
    },
    {
      "cell_type": "markdown",
      "metadata": {
        "id": "9Y-OG_h3UQ5u"
      },
      "source": [
        "#### Let's Make Predictions Using Our Trained MODEL"
      ]
    },
    {
      "cell_type": "code",
      "execution_count": 36,
      "metadata": {
        "id": "xg2-tVDkUcW8"
      },
      "outputs": [],
      "source": [
        "# to Forecast for 24 monhs and Frequency to Months\n",
        "pred = C.make_future_dataframe(periods=24,freq='M')\n",
        "C.predict(pred)\n",
        "forcast =C.predict(pred)"
      ]
    },
    {
      "cell_type": "code",
      "execution_count": 37,
      "metadata": {
        "id": "N9v_v3RtVXZu",
        "colab": {
          "base_uri": "https://localhost:8080/",
          "height": 661
        },
        "outputId": "4779e53d-1526-4534-db54-1f2b51d758eb"
      },
      "outputs": [
        {
          "output_type": "execute_result",
          "data": {
            "text/plain": [
              "            ds         trend    yhat_lower    yhat_upper   trend_lower  \\\n",
              "0   2005-01-31  60204.700893  38837.512579  71884.128088  60204.700893   \n",
              "1   2005-02-28  60077.285054  34542.993796  68071.386338  60077.285054   \n",
              "2   2005-03-31  59936.217519  41547.218300  75550.113035  59936.217519   \n",
              "3   2005-04-30  59799.700549  45100.419055  77924.592735  59799.700549   \n",
              "4   2005-05-31  59658.633013  48268.747913  81054.717941  59658.633013   \n",
              "..         ...           ...           ...           ...           ...   \n",
              "164 2018-09-30   6521.104616  -7744.220137  25682.821692   6160.751373   \n",
              "165 2018-10-31   6107.912768  -6911.724175  25509.956925   5721.487592   \n",
              "166 2018-11-30   5708.049689 -13468.449167  21018.005448   5292.845268   \n",
              "167 2018-12-31   5294.857841 -16698.656183  16513.827483   4851.678553   \n",
              "168 2019-01-31   4881.665992 -15350.364197  17664.100640   4403.110124   \n",
              "\n",
              "      trend_upper  additive_terms  additive_terms_lower  additive_terms_upper  \\\n",
              "0    60204.700893    -5158.564764          -5158.564764          -5158.564764   \n",
              "1    60077.285054    -9560.477505          -9560.477505          -9560.477505   \n",
              "2    59936.217519    -1354.653670          -1354.653670          -1354.653670   \n",
              "3    59799.700549     1101.993151           1101.993151           1101.993151   \n",
              "4    59658.633013     5398.409108           5398.409108           5398.409108   \n",
              "..            ...             ...                   ...                   ...   \n",
              "164   6899.486762     1810.337675           1810.337675           1810.337675   \n",
              "165   6517.890419     2310.560266           2310.560266           2310.560266   \n",
              "166   6149.471916    -2174.139317          -2174.139317          -2174.139317   \n",
              "167   5764.657937    -6159.893588          -6159.893588          -6159.893588   \n",
              "168   5383.840634    -4907.085072          -4907.085072          -4907.085072   \n",
              "\n",
              "          yearly  yearly_lower  yearly_upper  multiplicative_terms  \\\n",
              "0   -5158.564764  -5158.564764  -5158.564764                   0.0   \n",
              "1   -9560.477505  -9560.477505  -9560.477505                   0.0   \n",
              "2   -1354.653670  -1354.653670  -1354.653670                   0.0   \n",
              "3    1101.993151   1101.993151   1101.993151                   0.0   \n",
              "4    5398.409108   5398.409108   5398.409108                   0.0   \n",
              "..           ...           ...           ...                   ...   \n",
              "164  1810.337675   1810.337675   1810.337675                   0.0   \n",
              "165  2310.560266   2310.560266   2310.560266                   0.0   \n",
              "166 -2174.139317  -2174.139317  -2174.139317                   0.0   \n",
              "167 -6159.893588  -6159.893588  -6159.893588                   0.0   \n",
              "168 -4907.085072  -4907.085072  -4907.085072                   0.0   \n",
              "\n",
              "     multiplicative_terms_lower  multiplicative_terms_upper          yhat  \n",
              "0                           0.0                         0.0  55046.136129  \n",
              "1                           0.0                         0.0  50516.807549  \n",
              "2                           0.0                         0.0  58581.563849  \n",
              "3                           0.0                         0.0  60901.693700  \n",
              "4                           0.0                         0.0  65057.042121  \n",
              "..                          ...                         ...           ...  \n",
              "164                         0.0                         0.0   8331.442291  \n",
              "165                         0.0                         0.0   8418.473034  \n",
              "166                         0.0                         0.0   3533.910372  \n",
              "167                         0.0                         0.0   -865.035748  \n",
              "168                         0.0                         0.0    -25.419079  \n",
              "\n",
              "[169 rows x 16 columns]"
            ],
            "text/html": [
              "\n",
              "  <div id=\"df-16dcbfb3-921d-4f3f-9e81-09e38de20bf3\">\n",
              "    <div class=\"colab-df-container\">\n",
              "      <div>\n",
              "<style scoped>\n",
              "    .dataframe tbody tr th:only-of-type {\n",
              "        vertical-align: middle;\n",
              "    }\n",
              "\n",
              "    .dataframe tbody tr th {\n",
              "        vertical-align: top;\n",
              "    }\n",
              "\n",
              "    .dataframe thead th {\n",
              "        text-align: right;\n",
              "    }\n",
              "</style>\n",
              "<table border=\"1\" class=\"dataframe\">\n",
              "  <thead>\n",
              "    <tr style=\"text-align: right;\">\n",
              "      <th></th>\n",
              "      <th>ds</th>\n",
              "      <th>trend</th>\n",
              "      <th>yhat_lower</th>\n",
              "      <th>yhat_upper</th>\n",
              "      <th>trend_lower</th>\n",
              "      <th>trend_upper</th>\n",
              "      <th>additive_terms</th>\n",
              "      <th>additive_terms_lower</th>\n",
              "      <th>additive_terms_upper</th>\n",
              "      <th>yearly</th>\n",
              "      <th>yearly_lower</th>\n",
              "      <th>yearly_upper</th>\n",
              "      <th>multiplicative_terms</th>\n",
              "      <th>multiplicative_terms_lower</th>\n",
              "      <th>multiplicative_terms_upper</th>\n",
              "      <th>yhat</th>\n",
              "    </tr>\n",
              "  </thead>\n",
              "  <tbody>\n",
              "    <tr>\n",
              "      <th>0</th>\n",
              "      <td>2005-01-31</td>\n",
              "      <td>60204.700893</td>\n",
              "      <td>38837.512579</td>\n",
              "      <td>71884.128088</td>\n",
              "      <td>60204.700893</td>\n",
              "      <td>60204.700893</td>\n",
              "      <td>-5158.564764</td>\n",
              "      <td>-5158.564764</td>\n",
              "      <td>-5158.564764</td>\n",
              "      <td>-5158.564764</td>\n",
              "      <td>-5158.564764</td>\n",
              "      <td>-5158.564764</td>\n",
              "      <td>0.0</td>\n",
              "      <td>0.0</td>\n",
              "      <td>0.0</td>\n",
              "      <td>55046.136129</td>\n",
              "    </tr>\n",
              "    <tr>\n",
              "      <th>1</th>\n",
              "      <td>2005-02-28</td>\n",
              "      <td>60077.285054</td>\n",
              "      <td>34542.993796</td>\n",
              "      <td>68071.386338</td>\n",
              "      <td>60077.285054</td>\n",
              "      <td>60077.285054</td>\n",
              "      <td>-9560.477505</td>\n",
              "      <td>-9560.477505</td>\n",
              "      <td>-9560.477505</td>\n",
              "      <td>-9560.477505</td>\n",
              "      <td>-9560.477505</td>\n",
              "      <td>-9560.477505</td>\n",
              "      <td>0.0</td>\n",
              "      <td>0.0</td>\n",
              "      <td>0.0</td>\n",
              "      <td>50516.807549</td>\n",
              "    </tr>\n",
              "    <tr>\n",
              "      <th>2</th>\n",
              "      <td>2005-03-31</td>\n",
              "      <td>59936.217519</td>\n",
              "      <td>41547.218300</td>\n",
              "      <td>75550.113035</td>\n",
              "      <td>59936.217519</td>\n",
              "      <td>59936.217519</td>\n",
              "      <td>-1354.653670</td>\n",
              "      <td>-1354.653670</td>\n",
              "      <td>-1354.653670</td>\n",
              "      <td>-1354.653670</td>\n",
              "      <td>-1354.653670</td>\n",
              "      <td>-1354.653670</td>\n",
              "      <td>0.0</td>\n",
              "      <td>0.0</td>\n",
              "      <td>0.0</td>\n",
              "      <td>58581.563849</td>\n",
              "    </tr>\n",
              "    <tr>\n",
              "      <th>3</th>\n",
              "      <td>2005-04-30</td>\n",
              "      <td>59799.700549</td>\n",
              "      <td>45100.419055</td>\n",
              "      <td>77924.592735</td>\n",
              "      <td>59799.700549</td>\n",
              "      <td>59799.700549</td>\n",
              "      <td>1101.993151</td>\n",
              "      <td>1101.993151</td>\n",
              "      <td>1101.993151</td>\n",
              "      <td>1101.993151</td>\n",
              "      <td>1101.993151</td>\n",
              "      <td>1101.993151</td>\n",
              "      <td>0.0</td>\n",
              "      <td>0.0</td>\n",
              "      <td>0.0</td>\n",
              "      <td>60901.693700</td>\n",
              "    </tr>\n",
              "    <tr>\n",
              "      <th>4</th>\n",
              "      <td>2005-05-31</td>\n",
              "      <td>59658.633013</td>\n",
              "      <td>48268.747913</td>\n",
              "      <td>81054.717941</td>\n",
              "      <td>59658.633013</td>\n",
              "      <td>59658.633013</td>\n",
              "      <td>5398.409108</td>\n",
              "      <td>5398.409108</td>\n",
              "      <td>5398.409108</td>\n",
              "      <td>5398.409108</td>\n",
              "      <td>5398.409108</td>\n",
              "      <td>5398.409108</td>\n",
              "      <td>0.0</td>\n",
              "      <td>0.0</td>\n",
              "      <td>0.0</td>\n",
              "      <td>65057.042121</td>\n",
              "    </tr>\n",
              "    <tr>\n",
              "      <th>...</th>\n",
              "      <td>...</td>\n",
              "      <td>...</td>\n",
              "      <td>...</td>\n",
              "      <td>...</td>\n",
              "      <td>...</td>\n",
              "      <td>...</td>\n",
              "      <td>...</td>\n",
              "      <td>...</td>\n",
              "      <td>...</td>\n",
              "      <td>...</td>\n",
              "      <td>...</td>\n",
              "      <td>...</td>\n",
              "      <td>...</td>\n",
              "      <td>...</td>\n",
              "      <td>...</td>\n",
              "      <td>...</td>\n",
              "    </tr>\n",
              "    <tr>\n",
              "      <th>164</th>\n",
              "      <td>2018-09-30</td>\n",
              "      <td>6521.104616</td>\n",
              "      <td>-7744.220137</td>\n",
              "      <td>25682.821692</td>\n",
              "      <td>6160.751373</td>\n",
              "      <td>6899.486762</td>\n",
              "      <td>1810.337675</td>\n",
              "      <td>1810.337675</td>\n",
              "      <td>1810.337675</td>\n",
              "      <td>1810.337675</td>\n",
              "      <td>1810.337675</td>\n",
              "      <td>1810.337675</td>\n",
              "      <td>0.0</td>\n",
              "      <td>0.0</td>\n",
              "      <td>0.0</td>\n",
              "      <td>8331.442291</td>\n",
              "    </tr>\n",
              "    <tr>\n",
              "      <th>165</th>\n",
              "      <td>2018-10-31</td>\n",
              "      <td>6107.912768</td>\n",
              "      <td>-6911.724175</td>\n",
              "      <td>25509.956925</td>\n",
              "      <td>5721.487592</td>\n",
              "      <td>6517.890419</td>\n",
              "      <td>2310.560266</td>\n",
              "      <td>2310.560266</td>\n",
              "      <td>2310.560266</td>\n",
              "      <td>2310.560266</td>\n",
              "      <td>2310.560266</td>\n",
              "      <td>2310.560266</td>\n",
              "      <td>0.0</td>\n",
              "      <td>0.0</td>\n",
              "      <td>0.0</td>\n",
              "      <td>8418.473034</td>\n",
              "    </tr>\n",
              "    <tr>\n",
              "      <th>166</th>\n",
              "      <td>2018-11-30</td>\n",
              "      <td>5708.049689</td>\n",
              "      <td>-13468.449167</td>\n",
              "      <td>21018.005448</td>\n",
              "      <td>5292.845268</td>\n",
              "      <td>6149.471916</td>\n",
              "      <td>-2174.139317</td>\n",
              "      <td>-2174.139317</td>\n",
              "      <td>-2174.139317</td>\n",
              "      <td>-2174.139317</td>\n",
              "      <td>-2174.139317</td>\n",
              "      <td>-2174.139317</td>\n",
              "      <td>0.0</td>\n",
              "      <td>0.0</td>\n",
              "      <td>0.0</td>\n",
              "      <td>3533.910372</td>\n",
              "    </tr>\n",
              "    <tr>\n",
              "      <th>167</th>\n",
              "      <td>2018-12-31</td>\n",
              "      <td>5294.857841</td>\n",
              "      <td>-16698.656183</td>\n",
              "      <td>16513.827483</td>\n",
              "      <td>4851.678553</td>\n",
              "      <td>5764.657937</td>\n",
              "      <td>-6159.893588</td>\n",
              "      <td>-6159.893588</td>\n",
              "      <td>-6159.893588</td>\n",
              "      <td>-6159.893588</td>\n",
              "      <td>-6159.893588</td>\n",
              "      <td>-6159.893588</td>\n",
              "      <td>0.0</td>\n",
              "      <td>0.0</td>\n",
              "      <td>0.0</td>\n",
              "      <td>-865.035748</td>\n",
              "    </tr>\n",
              "    <tr>\n",
              "      <th>168</th>\n",
              "      <td>2019-01-31</td>\n",
              "      <td>4881.665992</td>\n",
              "      <td>-15350.364197</td>\n",
              "      <td>17664.100640</td>\n",
              "      <td>4403.110124</td>\n",
              "      <td>5383.840634</td>\n",
              "      <td>-4907.085072</td>\n",
              "      <td>-4907.085072</td>\n",
              "      <td>-4907.085072</td>\n",
              "      <td>-4907.085072</td>\n",
              "      <td>-4907.085072</td>\n",
              "      <td>-4907.085072</td>\n",
              "      <td>0.0</td>\n",
              "      <td>0.0</td>\n",
              "      <td>0.0</td>\n",
              "      <td>-25.419079</td>\n",
              "    </tr>\n",
              "  </tbody>\n",
              "</table>\n",
              "<p>169 rows × 16 columns</p>\n",
              "</div>\n",
              "      <button class=\"colab-df-convert\" onclick=\"convertToInteractive('df-16dcbfb3-921d-4f3f-9e81-09e38de20bf3')\"\n",
              "              title=\"Convert this dataframe to an interactive table.\"\n",
              "              style=\"display:none;\">\n",
              "        \n",
              "  <svg xmlns=\"http://www.w3.org/2000/svg\" height=\"24px\"viewBox=\"0 0 24 24\"\n",
              "       width=\"24px\">\n",
              "    <path d=\"M0 0h24v24H0V0z\" fill=\"none\"/>\n",
              "    <path d=\"M18.56 5.44l.94 2.06.94-2.06 2.06-.94-2.06-.94-.94-2.06-.94 2.06-2.06.94zm-11 1L8.5 8.5l.94-2.06 2.06-.94-2.06-.94L8.5 2.5l-.94 2.06-2.06.94zm10 10l.94 2.06.94-2.06 2.06-.94-2.06-.94-.94-2.06-.94 2.06-2.06.94z\"/><path d=\"M17.41 7.96l-1.37-1.37c-.4-.4-.92-.59-1.43-.59-.52 0-1.04.2-1.43.59L10.3 9.45l-7.72 7.72c-.78.78-.78 2.05 0 2.83L4 21.41c.39.39.9.59 1.41.59.51 0 1.02-.2 1.41-.59l7.78-7.78 2.81-2.81c.8-.78.8-2.07 0-2.86zM5.41 20L4 18.59l7.72-7.72 1.47 1.35L5.41 20z\"/>\n",
              "  </svg>\n",
              "      </button>\n",
              "      \n",
              "  <style>\n",
              "    .colab-df-container {\n",
              "      display:flex;\n",
              "      flex-wrap:wrap;\n",
              "      gap: 12px;\n",
              "    }\n",
              "\n",
              "    .colab-df-convert {\n",
              "      background-color: #E8F0FE;\n",
              "      border: none;\n",
              "      border-radius: 50%;\n",
              "      cursor: pointer;\n",
              "      display: none;\n",
              "      fill: #1967D2;\n",
              "      height: 32px;\n",
              "      padding: 0 0 0 0;\n",
              "      width: 32px;\n",
              "    }\n",
              "\n",
              "    .colab-df-convert:hover {\n",
              "      background-color: #E2EBFA;\n",
              "      box-shadow: 0px 1px 2px rgba(60, 64, 67, 0.3), 0px 1px 3px 1px rgba(60, 64, 67, 0.15);\n",
              "      fill: #174EA6;\n",
              "    }\n",
              "\n",
              "    [theme=dark] .colab-df-convert {\n",
              "      background-color: #3B4455;\n",
              "      fill: #D2E3FC;\n",
              "    }\n",
              "\n",
              "    [theme=dark] .colab-df-convert:hover {\n",
              "      background-color: #434B5C;\n",
              "      box-shadow: 0px 1px 3px 1px rgba(0, 0, 0, 0.15);\n",
              "      filter: drop-shadow(0px 1px 2px rgba(0, 0, 0, 0.3));\n",
              "      fill: #FFFFFF;\n",
              "    }\n",
              "  </style>\n",
              "\n",
              "      <script>\n",
              "        const buttonEl =\n",
              "          document.querySelector('#df-16dcbfb3-921d-4f3f-9e81-09e38de20bf3 button.colab-df-convert');\n",
              "        buttonEl.style.display =\n",
              "          google.colab.kernel.accessAllowed ? 'block' : 'none';\n",
              "\n",
              "        async function convertToInteractive(key) {\n",
              "          const element = document.querySelector('#df-16dcbfb3-921d-4f3f-9e81-09e38de20bf3');\n",
              "          const dataTable =\n",
              "            await google.colab.kernel.invokeFunction('convertToInteractive',\n",
              "                                                     [key], {});\n",
              "          if (!dataTable) return;\n",
              "\n",
              "          const docLinkHtml = 'Like what you see? Visit the ' +\n",
              "            '<a target=\"_blank\" href=https://colab.research.google.com/notebooks/data_table.ipynb>data table notebook</a>'\n",
              "            + ' to learn more about interactive tables.';\n",
              "          element.innerHTML = '';\n",
              "          dataTable['output_type'] = 'display_data';\n",
              "          await google.colab.output.renderOutput(dataTable, element);\n",
              "          const docLink = document.createElement('div');\n",
              "          docLink.innerHTML = docLinkHtml;\n",
              "          element.appendChild(docLink);\n",
              "        }\n",
              "      </script>\n",
              "    </div>\n",
              "  </div>\n",
              "  "
            ]
          },
          "metadata": {},
          "execution_count": 37
        }
      ],
      "source": [
        "forcast"
      ]
    },
    {
      "cell_type": "markdown",
      "metadata": {
        "id": "lHi8NGS6Vcpl"
      },
      "source": [
        "#### As we can see,facebook prophet has generated this DataFrame.So let's visualize it"
      ]
    },
    {
      "cell_type": "code",
      "execution_count": 38,
      "metadata": {
        "id": "XeWtHDChVpnd",
        "colab": {
          "base_uri": "https://localhost:8080/",
          "height": 865
        },
        "outputId": "b1a62453-90d0-4451-ba2f-ffddb98e0fc5"
      },
      "outputs": [
        {
          "output_type": "execute_result",
          "data": {
            "text/plain": [
              "<Figure size 720x432 with 1 Axes>"
            ],
            "image/png": "[encoded data removed]"
          },
          "metadata": {},
          "execution_count": 38
        },
        {
          "output_type": "display_data",
          "data": {
            "text/plain": [
              "<Figure size 720x432 with 1 Axes>"
            ],
            "image/png": "[encoded data removed]"
          },
          "metadata": {}
        }
      ],
      "source": [
        "C.plot(forcast,xlabel='Date',ylabel='Crime Rate')"
      ]
    },
    {
      "cell_type": "markdown",
      "metadata": {
        "id": "EBxhm_2-WbjR"
      },
      "source": [
        "#### From our plots,the black dots are historical data ,the blue line is the model prediction and the light blue patch is the 95% confidence intervals around predictions. So the forcast for 2019 is decreasing as per our plot"
      ]
    },
    {
      "cell_type": "markdown",
      "metadata": {
        "id": "9iO-Lr-sXQXf"
      },
      "source": [
        "#### Let's save our mode with json library.Training isnt required."
      ]
    },
    {
      "cell_type": "code",
      "execution_count": 39,
      "metadata": {
        "id": "JztmKpJJXczM"
      },
      "outputs": [],
      "source": [
        "import json\n",
        "from fbprophet.serialize import model_to_json, model_from_json\n",
        "\n",
        "with open('prophet_model.json', 'w') as fout:\n",
        "    json.dump(model_to_json(C), fout)  # Save model"
      ]
    },
    {
      "cell_type": "code",
      "execution_count": 40,
      "metadata": {
        "id": "qQK6zFQXX1BW"
      },
      "outputs": [],
      "source": [
        "with open('prophet_model.json', 'r') as fin:\n",
        "    C1 = model_from_json(json.load(fin))  # Load model"
      ]
    },
    {
      "cell_type": "code",
      "execution_count": 41,
      "metadata": {
        "id": "no71Bk1yX_26",
        "colab": {
          "base_uri": "https://localhost:8080/"
        },
        "outputId": "8e77d220-4931-48f7-d23f-0281137fbbb7"
      },
      "outputs": [
        {
          "name": "stdout",
          "output_type": "stream",
          "text": [
            "Enter Numbers Months to forecast20\n"
          ]
        }
      ],
      "source": [
        "x = int(input(\"Enter Numbers Months to forecast\"))\n"
      ]
    },
    {
      "cell_type": "code",
      "execution_count": 42,
      "metadata": {
        "id": "-2eaQo8KYn1q"
      },
      "outputs": [],
      "source": [
        "pred = C1.make_future_dataframe(periods=x ,freq = \"M\")\n",
        "forcast = C1.predict(pred)"
      ]
    },
    {
      "cell_type": "code",
      "execution_count": 43,
      "metadata": {
        "id": "xSHFvfwwYw0S",
        "colab": {
          "base_uri": "https://localhost:8080/",
          "height": 441
        },
        "outputId": "27487258-c2ec-4bc5-988a-a12c67b20808"
      },
      "outputs": [
        {
          "output_type": "display_data",
          "data": {
            "text/plain": [
              "<Figure size 720x432 with 1 Axes>"
            ],
            "image/png": "[encoded data removed]"
          },
          "metadata": {}
        }
      ],
      "source": [
        "figure = C1.plot(forcast, xlabel='Date', ylabel='Crime Rate')"
      ]
    }
  ],
  "metadata": {
    "colab": {
      "provenance": [],
      "mount_file_id": "1zIeV-yNFStJC2ezLpZE9xk09EJOs_SoS",
      "authorship_tag": "ABX9TyMDCxKdcpQvJRZ4CWhlIVyg",
      "include_colab_link": true
    },
    "kernelspec": {
      "display_name": "Python 3",
      "name": "python3"
    },
    "language_info": {
      "name": "python"
    }
  },
  "nbformat": 4,
  "nbformat_minor": 0
}